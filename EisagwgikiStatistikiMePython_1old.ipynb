{
 "cells": [
  {
   "cell_type": "markdown",
   "metadata": {},
   "source": [
    "# ΕΙΣΑΓΩΓΙΚΗ ΣΤΑΤΙΣΤΚΗ ΜΕ PYTHON - Ι"
   ]
  },
  {
   "cell_type": "code",
   "execution_count": 12,
   "metadata": {
    "collapsed": true
   },
   "outputs": [],
   "source": [
    "import math\n",
    "import random\n",
    "import csv\n",
    "import urllib2\n",
    "from collections import Counter\n",
    "\n",
    "import matplotlib.pyplot as plt\n",
    "%matplotlib inline"
   ]
  },
  {
   "cell_type": "markdown",
   "metadata": {
    "collapsed": false
   },
   "source": [
    "## Λίστες Τυχαίων Αριθμών"
   ]
  },
  {
   "cell_type": "code",
   "execution_count": 11,
   "metadata": {
    "collapsed": false
   },
   "outputs": [
    {
     "data": {
      "text/plain": [
       "5"
      ]
     },
     "execution_count": 11,
     "metadata": {},
     "output_type": "execute_result"
    }
   ],
   "source": [
    "dl = []\n",
    "dl.append(8)\n",
    "dl.append(2)\n",
    "dl.append(3.3)\n",
    "dl.extend([4,7])\n",
    "dl\n",
    "len(dl)\n",
    "dl[3] = 3.3\n",
    "len(dl)"
   ]
  },
  {
   "cell_type": "markdown",
   "metadata": {},
   "source": [
    "#### 1. Δημιουργία λίστας πραγματικών αριθμών στο διάστημα [0, 1) με random.random"
   ]
  },
  {
   "cell_type": "code",
   "execution_count": 14,
   "metadata": {
    "collapsed": false
   },
   "outputs": [
    {
     "data": {
      "text/plain": [
       "0.9947729552896161"
      ]
     },
     "execution_count": 14,
     "metadata": {},
     "output_type": "execute_result"
    }
   ],
   "source": [
    "x = random.random()\n",
    "x"
   ]
  },
  {
   "cell_type": "code",
   "execution_count": 19,
   "metadata": {
    "collapsed": false
   },
   "outputs": [
    {
     "name": "stdout",
     "output_type": "stream",
     "text": [
      "[0.6505533055382166, 0.33905730920828014, 0.6361892317901267, 0.16761490989675276, 0.36250683720199894, 0.7074992790055589, 0.8581068875248982, 0.6195487652683156, 0.3378216959830944, 0.4632304947185788]\n",
      "[0.65, 0.339, 0.636, 0.167, 0.362, 0.707, 0.858, 0.619, 0.337, 0.463]\n"
     ]
    }
   ],
   "source": [
    "rlist1 = [random.random() for _ in range(10)]\n",
    "print rlist1\n",
    "rlist1 = [float(int(a*1e3))*1e-3 for a in rlist1]\n",
    "print rlist1"
   ]
  },
  {
   "cell_type": "code",
   "execution_count": 17,
   "metadata": {
    "collapsed": false
   },
   "outputs": [
    {
     "name": "stdout",
     "output_type": "stream",
     "text": [
      "100000 0.001 <type 'float'> <type 'float'>\n"
     ]
    }
   ],
   "source": [
    "print int(1e5), float(1e-3), type(1e5), type(1e-5)"
   ]
  },
  {
   "cell_type": "markdown",
   "metadata": {},
   "source": [
    "#### 2. Δημιουργία λίστας πραγματικών αριθμών στο διάστημα [a, b] με random.uniform"
   ]
  },
  {
   "cell_type": "code",
   "execution_count": 22,
   "metadata": {
    "collapsed": false
   },
   "outputs": [
    {
     "data": {
      "text/plain": [
       "9.96260583054126"
      ]
     },
     "execution_count": 22,
     "metadata": {},
     "output_type": "execute_result"
    }
   ],
   "source": [
    "x = random.uniform(2,10)\n",
    "x"
   ]
  },
  {
   "cell_type": "code",
   "execution_count": 27,
   "metadata": {
    "collapsed": false
   },
   "outputs": [
    {
     "name": "stdout",
     "output_type": "stream",
     "text": [
      "[3.7949889390342886, 3.8088808369607356, 9.969425941078418, 0.9343016395814114, 1.1343665293073553, 9.427357572948297, 5.927859777668205, 0.8601608460324677, -1.8713230961880956, 6.777852162834133]\n",
      "[3.794, 3.8080000000000003, 9.969, 0.934, 1.1340000000000001, 9.427, 5.9270000000000005, 0.86, -1.871, 6.777]\n"
     ]
    }
   ],
   "source": [
    "rlist1u = [random.uniform(-5,10) for _ in range(10)]\n",
    "print rlist1u\n",
    "rlist1u = [float(int(a*1e3))*1e-3 for a in rlist1u]\n",
    "print rlist1u"
   ]
  },
  {
   "cell_type": "markdown",
   "metadata": {},
   "source": [
    "#### 3. Δημιουργία λίστας πραγματικών αριθμών με random.normalvariate(mean, sdev) μέσω της κανονικής κατανομής με μέση τιμή mean και τυπική απόκλιση sdev"
   ]
  },
  {
   "cell_type": "code",
   "execution_count": 28,
   "metadata": {
    "collapsed": false
   },
   "outputs": [
    {
     "data": {
      "text/plain": [
       "-0.42934545767653043"
      ]
     },
     "execution_count": 28,
     "metadata": {},
     "output_type": "execute_result"
    }
   ],
   "source": [
    "x = random.normalvariate(-1,0.8)\n",
    "x"
   ]
  },
  {
   "cell_type": "code",
   "execution_count": 29,
   "metadata": {
    "collapsed": false
   },
   "outputs": [
    {
     "name": "stdout",
     "output_type": "stream",
     "text": [
      "[-2.227258193212383, -0.21292276960578027, -2.393020373975542, -1.1586266248747714, -1.0897182741556877, -1.7524760974143567, -1.074710127731441, 0.15263528857185737, -1.925811032660111, -2.0414331498241234]\n",
      "[-2.227, -0.212, -2.3930000000000002, -1.158, -1.089, -1.752, -1.074, 0.152, -1.925, -2.041]\n"
     ]
    }
   ],
   "source": [
    "rlist1n = [random.normalvariate(-1,0.8) for _ in range(10)]\n",
    "print rlist1n\n",
    "rlist1n = [float(int(a*1e3))*1e-3 for a in rlist1n]\n",
    "print rlist1n"
   ]
  },
  {
   "cell_type": "markdown",
   "metadata": {},
   "source": [
    "#### 4. Δημιουργία λίστας ακέραιων με random.randrange"
   ]
  },
  {
   "cell_type": "code",
   "execution_count": 35,
   "metadata": {
    "collapsed": false
   },
   "outputs": [
    {
     "name": "stdout",
     "output_type": "stream",
     "text": [
      "[10, 14, 18]\n"
     ]
    },
    {
     "data": {
      "text/plain": [
       "15"
      ]
     },
     "execution_count": 35,
     "metadata": {},
     "output_type": "execute_result"
    }
   ],
   "source": [
    "rl1 = range(10,21,4)\n",
    "print rl1\n",
    "n = random.randrange(10,21)\n",
    "n"
   ]
  },
  {
   "cell_type": "code",
   "execution_count": 24,
   "metadata": {
    "collapsed": false
   },
   "outputs": [
    {
     "name": "stdout",
     "output_type": "stream",
     "text": [
      "[5, 7, 0, 7]\n",
      "[48, 38, 30, 45, 34, 47, 45, 33]\n",
      "[33, 39, 48, 33, 48, 42, 33, 39, 30, 30, 39, 45, 30, 33, 45]\n"
     ]
    }
   ],
   "source": [
    "rlist2 = [random.randrange(10) for _ in range(4)]\n",
    "print rlist2\n",
    "rlist3 = [random.randrange(30,50) for _ in range(8)]\n",
    "print rlist3\n",
    "rlist4 = [random.randrange(30,50,3) for _ in range(15)]\n",
    "print rlist4"
   ]
  },
  {
   "cell_type": "markdown",
   "metadata": {},
   "source": [
    "#### 5. Δημιουργία λίστας με random.shuffle"
   ]
  },
  {
   "cell_type": "code",
   "execution_count": 38,
   "metadata": {
    "collapsed": false
   },
   "outputs": [
    {
     "name": "stdout",
     "output_type": "stream",
     "text": [
      "[0, 1, 2, 3, 4, 5, 6, 7, 8, 9]\n",
      "[1, 6, 2, 4, 3, 8, 9, 7, 5, 0]\n",
      "[0.7367548525434578, 0.3620994963461702, 0.6783623554969648, 0.5157635737718909, 0.7698524348087088, 0.4368120583273082, 0.06764377135124444, 0.28614250883160175, 0.8189303795141496, 0.878348273091727]\n",
      "[0.736, 0.362, 0.678, 0.515, 0.769, 0.436, 0.067, 0.28600000000000003, 0.8180000000000001, 0.878]\n"
     ]
    }
   ],
   "source": [
    "r10 = range(10)\n",
    "print r10\n",
    "random.shuffle(r10) #range(10)) \n",
    "print r10\n",
    "list1 = [random.random() for _ in range(10)]\n",
    "random.shuffle(list1)\n",
    "print list1\n",
    "list1 = [float(int(a*1e3))*1e-3 for a in list1]\n",
    "print list1"
   ]
  },
  {
   "cell_type": "markdown",
   "metadata": {},
   "source": [
    "#### 6. Δημιουργία λίστας με random.choice"
   ]
  },
  {
   "cell_type": "code",
   "execution_count": 41,
   "metadata": {
    "collapsed": false
   },
   "outputs": [
    {
     "name": "stdout",
     "output_type": "stream",
     "text": [
      "[0, 1, 2, 3, 4, 5, 6, 7, 8, 9, 10, 11, 12, 13, 14, 15, 16, 17, 18, 19]\n"
     ]
    },
    {
     "data": {
      "text/plain": [
       "12"
      ]
     },
     "execution_count": 41,
     "metadata": {},
     "output_type": "execute_result"
    }
   ],
   "source": [
    "r20 = range(20)\n",
    "print r20\n",
    "a = random.choice(r20)\n",
    "a"
   ]
  },
  {
   "cell_type": "code",
   "execution_count": 42,
   "metadata": {
    "collapsed": false
   },
   "outputs": [
    {
     "name": "stdout",
     "output_type": "stream",
     "text": [
      "[5, 1, 6, 0, 6, 7, 8, 3, 5, 6] 10\n",
      "[0.769, 0.736, 0.362, 0.769, 0.678, 0.362, 0.067, 0.878, 0.362, 0.067]\n"
     ]
    }
   ],
   "source": [
    "rlist5 = [random.choice(range(10)) for _ in range(10)]\n",
    "print rlist5, len(rlist5)\n",
    "rlist6 = [random.choice(list1) for _ in range(10)]\n",
    "print rlist6"
   ]
  },
  {
   "cell_type": "markdown",
   "metadata": {},
   "source": [
    "#### 7. Δημιουργία λίστας με random.sample (χωρίς επαναλήψεις)"
   ]
  },
  {
   "cell_type": "code",
   "execution_count": 51,
   "metadata": {
    "collapsed": false
   },
   "outputs": [
    {
     "name": "stdout",
     "output_type": "stream",
     "text": [
      "[51, 39, 26, 18, 55, 25, 34, 29, 20, 22]\n"
     ]
    }
   ],
   "source": [
    "rlist7 = random.sample(range(60),10)\n",
    "print rlist7"
   ]
  },
  {
   "cell_type": "markdown",
   "metadata": {},
   "source": [
    "## Εισαγωγή δεδομένων από αρχείο"
   ]
  },
  {
   "cell_type": "markdown",
   "metadata": {},
   "source": [
    "#### Δεδομένα από τοπικό αρχείο"
   ]
  },
  {
   "cell_type": "code",
   "execution_count": 43,
   "metadata": {
    "collapsed": false
   },
   "outputs": [
    {
     "name": "stdout",
     "output_type": "stream",
     "text": [
      "Timothy,1\n",
      "\n",
      "Baron,6\n",
      "\n",
      "Homburg,1\n",
      "\n",
      "['Ivanovitch,4\\n', 'Lovell,1\\n', 'Astley,38\\n', 'Alexandrovna,2\\n', 'Nadia,3\\n', 'Mischa,2\\n', 'Nicolai,1\\n', 'Martha,8\\n', 'Monsieur,3\\n', 'Hortense,1\\n', 'Therese,1\\n', 'Vassilievna,1\\n', 'Marquise,1\\n', 'Albert,2\\n', 'Potapitch,13\\n', 'Baroness,9\\n', 'Gretchen,2\\n', 'Lisette,1\\n', 'Philipovna,4\\n', 'Maria,6\\n', 'Petrovitch,1\\n', 'Marquis,7\\n', 'Mademoiselle,1\\n', 'Alexis,22\\n', 'Madame,2\\n', 'Burmergelm,2\\n', 'Griers,44\\n', 'Cominges,1\\n', 'Zelma,6\\n', 'Prascovia,1\\n', 'Antonida,1\\n', 'Grandmother,1\\n', 'Grandmamma,1\\n', 'Polina,81\\n', 'Baden,1\\n', 'Fraulein,1\\n', 'Blanchard,1\\n', 'Blanche,27\\n', 'Theodosia,1\\n', 'Paul,1\\n', 'Prince,2\\n']\n"
     ]
    }
   ],
   "source": [
    "f = open('names-freqs.csv','r')\n",
    "print f.readline()\n",
    "print f.readline()\n",
    "print f.readline()\n",
    "list_names_freqs = f.readlines()\n",
    "print list_names_freqs"
   ]
  },
  {
   "cell_type": "code",
   "execution_count": 219,
   "metadata": {
    "collapsed": false
   },
   "outputs": [
    {
     "name": "stdout",
     "output_type": "stream",
     "text": [
      "['Baron', 'Homburg', 'Ivanovitch', 'Lovell', 'Astley', 'Alexandrovna', 'Nadia', 'Mischa', 'Nicolai', 'Martha', 'Monsieur', 'Hortense', 'Therese', 'Vassilievna', 'Marquise', 'Albert', 'Potapitch', 'Baroness', 'Gretchen', 'Lisette', 'Philipovna', 'Maria', 'Petrovitch', 'Marquis', 'Mademoiselle', 'Alexis', 'Madame', 'Burmergelm', 'Griers', 'Cominges', 'Zelma', 'Prascovia', 'Antonida', 'Grandmother', 'Grandmamma', 'Polina', 'Baden', 'Fraulein', 'Blanchard', 'Blanche', 'Theodosia', 'Paul', 'Prince']\n",
      "[6, 1, 4, 1, 38, 2, 3, 2, 1, 8, 3, 1, 1, 1, 1, 2, 13, 9, 2, 1, 4, 6, 1, 7, 1, 22, 2, 2, 44, 1, 6, 1, 1, 1, 1, 81, 1, 1, 1, 27, 1, 1, 2]\n"
     ]
    }
   ],
   "source": [
    "names = []\n",
    "freqs = []\n",
    "with open('names-freqs.csv') as f:\n",
    "    reader = csv.reader(f)\n",
    "    next(reader)\n",
    "    for row in reader:\n",
    "        names.append(str(row[0]))\n",
    "        freqs.append(int(row[1]))\n",
    "print names\n",
    "print freqs"
   ]
  },
  {
   "cell_type": "code",
   "execution_count": 30,
   "metadata": {
    "collapsed": false
   },
   "outputs": [
    {
     "name": "stdout",
     "output_type": "stream",
     "text": [
      "7-Nov-15,15-Nov-15,22-Nov-15,29-Nov-15,6-Dec-15,13-Dec-15,20-Dec-15,27-Dec-15,3-Jan-16\n",
      "\r",
      "refugeeconvoy,231,260,275,284,290,295,296,298,300\n",
      "\r",
      "refugeecrisis,84322,124904,163352,186157,204363,221863,235107,244731,252250\n",
      "\r",
      "refugeemarch,2,6,6,148,149,149,151,151,151\n",
      "\r",
      "refugees,132231,209627,343019,425357,475432,523799,565829,602519,627576\n",
      "\r",
      "refugeesGR,27894,35118,40382,47627,53475,60348,65542,70427,74480\n",
      "\r",
      "refugeeswelcome,62997,109796,270169,329168,360837,393349,420177,436757,441665\n",
      "\r",
      "Fluechtling,7339,13316,17315,24571,28121,31851,35813,39307,41540\n",
      "\r",
      "flykting,1565,3223,4219,5420,6379,7339,7926,8418,9077\n",
      "\r",
      "menekult,185,288,329,395,466,543,612,677,714\n",
      "\r",
      "muelteci,21828,51338,67872,86951,115314,131271,146647,160039,167811\n",
      "\r",
      "refugee,419267,828147,1655449,2226792,2485401,2744975,2963631,3133352,3419267\n",
      "\r",
      "rifugiato,412,3667,4839,5610,6030,6676,7244,7586,7927\n",
      "\r",
      "refugie,7086,19353,27542,31503,34096,36569,39907,42711,44048\n",
      "\r",
      "paris,0,0,1917259,2640829,3124246,3311799,3516921,3634226,3737076\n",
      "\r",
      "parisattacks,0,0,1979327,2995823,3131640,3173138,3198119,3208478,3220218\n",
      "\r",
      "PorteOuverte,0,0,1019674,1025397,1026028,1026288,1026526,1026662,1026742\n"
     ]
    }
   ],
   "source": [
    "\n",
    "with open('hashtags-dates_n.csv', 'r') as f:\n",
    "#     print len(f.readlines())\n",
    "    lines=f.readlines()\n",
    "    lines=lines[0].split(\"\\\\n\")\n",
    "#     print f.readlines().split('\\')\n",
    "    for line in lines:\n",
    "        print line\n",
    "\n",
    "# f = open('hashtags-dates.csv','r')\n",
    "# print f.readline()\n",
    "# print f.readline()\n",
    "# list_hashtags_dates = f.readlines()\n",
    "# print list_hashtags_dates"
   ]
  },
  {
   "cell_type": "code",
   "execution_count": 44,
   "metadata": {
    "collapsed": false
   },
   "outputs": [
    {
     "name": "stdout",
     "output_type": "stream",
     "text": [
      "['refugeeconvoy', 'refugeecrisis', 'refugeemarch', 'refugees', 'refugeesGR', 'refugeeswelcome', 'Fluechtling', 'flykting', 'menekult', 'muelteci', 'refugee', 'rifugiato', 'refugie', 'paris', 'parisattacks', 'PorteOuverte']\n",
      "[284, 186157, 148, 425357, 47627, 329168, 24571, 5420, 395, 86951, 2226792, 5610, 31503, 2640829, 2995823, 1025397]\n"
     ]
    }
   ],
   "source": [
    "hashtags = []\n",
    "date1 = []\n",
    "date2 = []\n",
    "date3 = []\n",
    "date4 = []\n",
    "date5 = []\n",
    "date6 = []\n",
    "date7 = []\n",
    "date8 = []\n",
    "date9 = []\n",
    "with open('hashtags-dates.csv','rU') as f:\n",
    "    reader = csv.reader(f)\n",
    "    next(reader)\n",
    "    for row in reader:\n",
    "        hashtags.append(str(row[0]))\n",
    "        date1.append(int(row[1]))\n",
    "        date2.append(int(row[2]))\n",
    "        date3.append(int(row[3]))\n",
    "        date4.append(int(row[4]))\n",
    "        date5.append(int(row[5]))\n",
    "        date6.append(int(row[6]))\n",
    "        date7.append(int(row[7]))\n",
    "        date8.append(int(row[8]))\n",
    "        date9.append(int(row[9]))\n",
    "print hashtags\n",
    "print date4"
   ]
  },
  {
   "cell_type": "markdown",
   "metadata": {},
   "source": [
    "#### Δημιουργία λεξικού από δυο μεταβλητές"
   ]
  },
  {
   "cell_type": "code",
   "execution_count": 214,
   "metadata": {
    "collapsed": false
   },
   "outputs": [
    {
     "name": "stdout",
     "output_type": "stream",
     "text": [
      "{'Baron': 6, 'Homburg': 1, 'Ivanovitch': 4, 'Lovell': 1, 'Astley': 38, 'Alexandrovna': 2, 'Nadia': 3, 'Mischa': 2, 'Nicolai': 1, 'Martha': 8, 'Monsieur': 3, 'Hortense': 1, 'Therese': 1, 'Vassilievna': 1, 'Marquise': 1, 'Albert': 2, 'Potapitch': 13, 'Baroness': 9, 'Gretchen': 2, 'Lisette': 1, 'Philipovna': 4, 'Maria': 6, 'Petrovitch': 1, 'Marquis': 7, 'Alexis': 22, 'Madame': 2, 'Burmergelm': 2, 'Griers': 44, 'Cominges': 1, 'Zelma': 6, 'Grandmamma': 1, 'Antonida': 1, 'Mademoiselle': 1, 'Prascovia': 1, 'Polina': 81, 'Baden': 1, 'Grandmother': 1, 'Blanchard': 1, 'Prince': 2, 'Blanche': 27, 'Theodosia': 1, 'Paul': 1, 'Fraulein': 1}\n"
     ]
    }
   ],
   "source": [
    "names_freqs_d = dict((str(k), v) for k, v in zip(names,freqs)) \n",
    "print names_freqs_d"
   ]
  },
  {
   "cell_type": "code",
   "execution_count": 46,
   "metadata": {
    "collapsed": false
   },
   "outputs": [
    {
     "name": "stdout",
     "output_type": "stream",
     "text": [
      "{'rifugiato': 5610, 'refugeeconvoy': 284, 'paris': 2640829, 'refugeesGR': 47627, 'refugee': 2226792, 'Fluechtling': 24571, 'refugeemarch': 148, 'PorteOuverte': 1025397, 'parisattacks': 2995823, 'menekult': 395, 'muelteci': 86951, 'flykting': 5420, 'refugeeswelcome': 329168, 'refugeecrisis': 186157, 'refugees': 425357, 'refugie': 31503}\n"
     ]
    }
   ],
   "source": [
    "hashtags_date4_d = dict((str(k), v) for k, v in zip(hashtags,date4)) \n",
    "print hashtags_date4_d"
   ]
  },
  {
   "cell_type": "markdown",
   "metadata": {},
   "source": [
    "#### Αναζήτηση κλειδιών από τιμές σε λεξικό"
   ]
  },
  {
   "cell_type": "code",
   "execution_count": 218,
   "metadata": {
    "collapsed": false
   },
   "outputs": [
    {
     "name": "stdout",
     "output_type": "stream",
     "text": [
      "['Alexandrovna', 'Mischa', 'Albert', 'Gretchen', 'Madame', 'Burmergelm', 'Prince']\n"
     ]
    }
   ],
   "source": [
    "search_freqs = 2\n",
    "search_names = []\n",
    "for name in names_freqs_d.keys():\n",
    "    if names_freqs_d[name] == search_freqs:\n",
    "        search_names.append(name)\n",
    "print search_names"
   ]
  },
  {
   "cell_type": "code",
   "execution_count": 48,
   "metadata": {
    "collapsed": false
   },
   "outputs": [
    {
     "name": "stdout",
     "output_type": "stream",
     "text": [
      "['Fluechtling']\n"
     ]
    }
   ],
   "source": [
    "search_h = 24571\n",
    "search_names = []\n",
    "for name in hashtags_date4_d.keys():\n",
    "    if hashtags_date4_d[name] == search_h:\n",
    "        search_names.append(name)\n",
    "print search_names"
   ]
  },
  {
   "cell_type": "markdown",
   "metadata": {},
   "source": [
    "#### Δεδομένα από το Internet"
   ]
  },
  {
   "cell_type": "code",
   "execution_count": 51,
   "metadata": {
    "collapsed": false
   },
   "outputs": [
    {
     "name": "stdout",
     "output_type": "stream",
     "text": [
      "['Mazda RX4', 'Mazda RX4 Wag', 'Datsun 710', 'Hornet 4 Drive', 'Hornet Sportabout', 'Valiant', 'Duster 360', 'Merc 240D', 'Merc 230', 'Merc 280', 'Merc 280C', 'Merc 450SE', 'Merc 450SL', 'Merc 450SLC', 'Cadillac Fleetwood', 'Lincoln Continental', 'Chrysler Imperial', 'Fiat 128', 'Honda Civic', 'Toyota Corolla', 'Toyota Corona', 'Dodge Challenger', 'AMC Javelin', 'Camaro Z28', 'Pontiac Firebird', 'Fiat X1-9', 'Porsche 914-2', 'Lotus Europa', 'Ford Pantera L', 'Ferrari Dino', 'Maserati Bora', 'Volvo 142E']\n",
      "[21.0, 21.0, 22.8, 21.4, 18.7, 18.1, 14.3, 24.4, 22.8, 19.2, 17.8, 16.4, 17.3, 15.2, 10.4, 10.4, 14.7, 32.4, 30.4, 33.9, 21.5, 15.5, 15.2, 13.3, 19.2, 27.3, 26.0, 30.4, 15.8, 19.7, 15.0, 21.4]\n",
      "[110, 110, 93, 110, 175, 105, 245, 62, 95, 123, 123, 180, 180, 180, 205, 215, 230, 66, 52, 65, 97, 150, 150, 245, 175, 66, 91, 113, 264, 175, 335, 109]\n"
     ]
    }
   ],
   "source": [
    "url = 'https://vincentarelbundock.github.io/Rdatasets/csv/datasets/mtcars.csv'\n",
    "response = urllib2.urlopen(url)\n",
    "cars = []\n",
    "mpg\t= []\n",
    "cyl = []\n",
    "disp = []\n",
    "hp = []\n",
    "drat = []\n",
    "wt = []\n",
    "qsec = []\n",
    "vs = []\n",
    "am = []\n",
    "gear = []\n",
    "carb = []\n",
    "reader = csv.reader(response)\n",
    "next(reader)\n",
    "for row in reader:\n",
    "    cars.append(str(row[0]))\n",
    "    mpg.append(float(row[1]))\n",
    "    cyl.append(int(row[2]))\n",
    "    disp.append(float(row[3]))\n",
    "    hp.append(int(row[4]))\n",
    "    drat.append(float(row[5]))\n",
    "    wt.append(float(row[6]))\n",
    "    qsec.append(float(row[7]))\n",
    "    vs.append(int(row[8]))\n",
    "    am.append(int(row[9]))\n",
    "    gear.append(int(row[10]))\n",
    "    carb.append(int(row[11]))\n",
    "print cars\n",
    "print mpg\n",
    "print hp"
   ]
  },
  {
   "cell_type": "markdown",
   "metadata": {},
   "source": [
    "## ΜΕΣΗ ΤΙΜΗ"
   ]
  },
  {
   "cell_type": "markdown",
   "metadata": {},
   "source": [
    "Η **μέση τιμή** μιας λίστας αριθμών ορίζεται ώς το άθροισμα των αριθμών διαιρούμενο με το πλήθος τους."
   ]
  },
  {
   "cell_type": "code",
   "execution_count": 58,
   "metadata": {
    "collapsed": false
   },
   "outputs": [
    {
     "name": "stdout",
     "output_type": "stream",
     "text": [
      "[1140, 450, 650, 820, 410, 670, 650, 10, 1260, 960, 1130, 520, 490, 390, 450, 610, 110, 440, 1360, 1240]\n"
     ]
    }
   ],
   "source": [
    "var1 = [random.choice(range(0,1500,10)) for _ in range(20)]\n",
    "print var1"
   ]
  },
  {
   "cell_type": "code",
   "execution_count": 153,
   "metadata": {
    "collapsed": false
   },
   "outputs": [
    {
     "name": "stdout",
     "output_type": "stream",
     "text": [
      "15700\n",
      "20\n",
      "Η μέση τιμή της μεταβλητής var1 είναι 785.00\n"
     ]
    }
   ],
   "source": [
    "name = \"var1\"\n",
    "s = sum(var1)\n",
    "N = len(var1)\n",
    "mean = s/float(N)\n",
    "print s\n",
    "print N\n",
    "print 'Η μέση τιμή της μεταβλητής %s είναι %.2f' %(name,mean)"
   ]
  },
  {
   "cell_type": "code",
   "execution_count": 53,
   "metadata": {
    "collapsed": false
   },
   "outputs": [
    {
     "name": "stdout",
     "output_type": "stream",
     "text": [
      "102.952\n",
      "32\n",
      "[2.62, 2.875, 2.32, 3.215, 3.44, 3.46, 3.57, 3.19, 3.15, 3.44, 3.44, 4.07, 3.73, 3.78, 5.25, 5.424, 5.345, 2.2, 1.615, 1.835, 2.465, 3.52, 3.435, 3.84, 3.845, 1.935, 2.14, 1.513, 3.17, 2.77, 3.57, 2.78]\n",
      "Η μέση τιμή της μεταβλητής wt είναι 3.22\n"
     ]
    }
   ],
   "source": [
    "name = \"wt\"\n",
    "s = sum(wt)\n",
    "N = len(wt)\n",
    "mean = s/float(N)\n",
    "print s\n",
    "print N\n",
    "print wt\n",
    "print 'Η μέση τιμή της μεταβλητής %s είναι %.2f' %(name,mean)"
   ]
  },
  {
   "cell_type": "code",
   "execution_count": 54,
   "metadata": {
    "collapsed": true
   },
   "outputs": [],
   "source": [
    "def mean(x):\n",
    "    mean = sum(x)/float(len(x))\n",
    "    return mean"
   ]
  },
  {
   "cell_type": "code",
   "execution_count": 55,
   "metadata": {
    "collapsed": false
   },
   "outputs": [
    {
     "data": {
      "text/plain": [
       "3.2172499999999995"
      ]
     },
     "execution_count": 55,
     "metadata": {},
     "output_type": "execute_result"
    }
   ],
   "source": [
    "mean(wt)"
   ]
  },
  {
   "cell_type": "markdown",
   "metadata": {},
   "source": [
    "## ΕΝΔΙΑΜΕΣΗ ΤΙΜΗ"
   ]
  },
  {
   "cell_type": "markdown",
   "metadata": {},
   "source": [
    "Η **ενδιάμεση τιμή** μιας λίστας αριθμών ορίζεται ως ο αριθμός εκείνος εντός ή εκτός της λίστας, που είναι τέτοιος ώστε το πλήθος των αριθμών της λίστας που είναι μικρότεροί του να είναι το ίδιο με το πλήθος των αριθμών της λίστας που είναι μεγαλύτεροί του.\n",
    "\n",
    "Επομένως, όταν η λίστα έχει περιττό πλήθος αριθμών, τότε η ενδιάμεση τιμή της είναι ένας από τους αριθμούς της λίστας, ενώ όταν η λίστα έχει άρτιο αριθμό, τότε η ενδιάμεση τιμής της είναι ένας αριθμός εκτός λίστας, που ορίζεται ως η μέση τιμή του κάτω ενδιάμεσου και του πάνω ενδιάμεσου της λίστας. Στην περίπτωση αυτή, ο κάτω και ο πάνω ενδιάμεσοςτης λίστας ορίζονται ως οι δυο διαδοχικοί αριθμοί μέσα στη λίστα, που είναι τέτοιοι ώστε το πλήθος των αριθμών της λίστας που είναι μικρότεροι του κάτω ενδιάμεσου να είναι το ίδιο με το πλήθος των αριθμών της λίστας που είναι μεγαλύτεροι του πάνω ενδιάμεσου. "
   ]
  },
  {
   "cell_type": "code",
   "execution_count": 60,
   "metadata": {
    "collapsed": false
   },
   "outputs": [
    {
     "name": "stdout",
     "output_type": "stream",
     "text": [
      "[1140, 450, 650, 820, 410, 670, 650, 10, 1260, 960, 1130, 520, 490, 390, 450, 610, 110, 440, 1360, 1240]\n",
      "20\n",
      "[10, 110, 390, 410, 440, 450, 450, 490, 520, 610, 650, 650, 670, 820, 960, 1130, 1140, 1240, 1260, 1360]\n",
      "[1360, 1260, 1240, 1140, 1130, 960, 820, 670, 650, 650, 610, 520, 490, 450, 450, 440, 410, 390, 110, 10]\n"
     ]
    }
   ],
   "source": [
    "print var1\n",
    "print len(var1)\n",
    "print sorted(var1)\n",
    "print sorted(var1, reverse=True)"
   ]
  },
  {
   "cell_type": "code",
   "execution_count": 166,
   "metadata": {
    "collapsed": false
   },
   "outputs": [
    {
     "name": "stdout",
     "output_type": "stream",
     "text": [
      "True\n",
      "10\n",
      "680 840\n",
      "Η ενδιάμεση τιμή της μεταβλητής var1 είναι 760.00\n"
     ]
    }
   ],
   "source": [
    "print len(var1) % 2 == 0\n",
    "midpoint = len(var1)/2\n",
    "lowermidpoint = midpoint - 1\n",
    "uppermidpoint = midpoint\n",
    "median = (sorted(var1)[lowermidpoint] + sorted(var1)[uppermidpoint])/2.\n",
    "print midpoint\n",
    "print sorted(var1)[lowermidpoint], sorted(var1)[uppermidpoint]\n",
    "print 'Η ενδιάμεση τιμή της μεταβλητής %s είναι %.2f' %(name,median)"
   ]
  },
  {
   "cell_type": "code",
   "execution_count": 61,
   "metadata": {
    "collapsed": false
   },
   "outputs": [
    {
     "name": "stdout",
     "output_type": "stream",
     "text": [
      "False\n",
      "9\n",
      "Η ενδιάμεση τιμή της μεταβλητής var1o είναι 880.00\n"
     ]
    }
   ],
   "source": [
    "name = \"var1o\"\n",
    "var1o = [random.choice(range(0,1500,10)) for _ in range(19)]\n",
    "print len(var1o) % 2 == 0\n",
    "midpoint = len(var1o)//2\n",
    "median = sorted(var1o)[midpoint]\n",
    "print midpoint\n",
    "print 'Η ενδιάμεση τιμή της μεταβλητής %s είναι %.2f' %(name,median)"
   ]
  },
  {
   "cell_type": "code",
   "execution_count": 65,
   "metadata": {
    "collapsed": true
   },
   "outputs": [],
   "source": [
    "def median(x):\n",
    "    N = len(x)\n",
    "    x.sort()\n",
    "    if N % 2 == 0: # if N is even\n",
    "        m1 = N/2\n",
    "        m2 = (N/2) + 1\n",
    "        # convert to integer, match position\n",
    "        m1 = int(m1) - 1\n",
    "        m2 = int(m2) - 1\n",
    "        median = (x[m1] + x[m2])/2\n",
    "    else:\n",
    "        m = (N+1)/2\n",
    "        # convert to integer, match position\n",
    "        m = int(m) - 1\n",
    "        median = x[m]\n",
    "    return median"
   ]
  },
  {
   "cell_type": "code",
   "execution_count": 70,
   "metadata": {
    "collapsed": false
   },
   "outputs": [
    {
     "name": "stdout",
     "output_type": "stream",
     "text": [
      "17.71 3.325 630 880\n",
      "[14.5, 14.6, 15.41, 15.5, 15.84, 16.46, 16.7, 16.87, 16.9, 17.02, 17.02, 17.05, 17.3, 17.4, 17.42, 17.6, 17.82, 17.98, 18.0, 18.3, 18.52, 18.6, 18.61, 18.9, 18.9, 19.44, 19.47, 19.9, 20.0, 20.01, 20.22, 22.9]\n"
     ]
    }
   ],
   "source": [
    "print median(qsec), median(wt), median(var1), median(var1o) \n",
    "print qsec"
   ]
  },
  {
   "cell_type": "markdown",
   "metadata": {},
   "source": [
    "## ΕΚΑΤΟΣΤΗΜΟΡΙΑ"
   ]
  },
  {
   "cell_type": "markdown",
   "metadata": {},
   "source": [
    "Το **p-εκατοστημόριο** μιας λίστας αριθμών είναι εκείνος ο αριθμός, που είναι τέτοιος ώστε, όταν οι αριθμοί της λίστας διαταχθούν σε αύξουσα σειρά, το p% των αριθμών της λίστας να είναι μικρότερό του και το (100-p)% των αριθμών της λίστας να είναι μεγαλύτερό του.\n",
    "\n",
    "Προφανώς, όταν το πλήθος των αριθμών της λίστας είναι περιττό, το 0.5-εκατοστημόριο είναι ακριβώς η ενδιάμεση τιμή."
   ]
  },
  {
   "cell_type": "code",
   "execution_count": 171,
   "metadata": {
    "collapsed": false
   },
   "outputs": [
    {
     "name": "stdout",
     "output_type": "stream",
     "text": [
      "[0, 60, 240, 360, 400, 430, 520, 540, 620, 730, 890, 920, 930, 1120, 1170, 1300, 1360, 1410, 1450]\n",
      "[0, 60, 240, 360, 400, 430, 520, 540, 620, 730, 890, 920, 930, 1120, 1170, 1300, 1360, 1410, 1450]\n",
      "Το 0.10-εκατοστημόριο της μεταβλητής var1o είναι 60\n",
      "Το 0.25-εκατοστημόριο της μεταβλητής var1o είναι 400\n",
      "Το 0.50-εκατοστημόριο της μεταβλητής var1o είναι 730\n",
      "Το 0.75-εκατοστημόριο της μεταβλητής var1o είναι 1170\n",
      "Το 0.90-εκατοστημόριο της μεταβλητής var1o είναι 1410\n"
     ]
    }
   ],
   "source": [
    "name = \"var1o\"\n",
    "print var1o\n",
    "print sorted(var1o)\n",
    "plist = [0.10, 0.25, 0.50, 0.75, 0.90]\n",
    "for p in plist:\n",
    "    p_index = int(p * len(var1o))\n",
    "    print 'Το %.2f-εκατοστημόριο της μεταβλητής %s είναι %d' %(p,name,sorted(var1o)[p_index])"
   ]
  },
  {
   "cell_type": "code",
   "execution_count": 71,
   "metadata": {
    "collapsed": true
   },
   "outputs": [],
   "source": [
    "def quantile(x, p):\n",
    "    \"\"\"returns the pth-percentile value in x\"\"\"\n",
    "    p_index = int(p * len(x))\n",
    "    return sorted(x)[p_index]"
   ]
  },
  {
   "cell_type": "code",
   "execution_count": 73,
   "metadata": {
    "collapsed": false
   },
   "outputs": [
    {
     "name": "stdout",
     "output_type": "stream",
     "text": [
      "1260 2.14 18.3\n"
     ]
    }
   ],
   "source": [
    "print quantile(var1o,0.75), quantile(wt,0.15), quantile(qsec,0.60)"
   ]
  },
  {
   "cell_type": "markdown",
   "metadata": {},
   "source": [
    "## ΕΠΙΚΡΑΤΕΣΤΕΡΗ/ΕΣ ΤΙΜΗ/ΕΣ"
   ]
  },
  {
   "cell_type": "markdown",
   "metadata": {},
   "source": [
    "Οι **επικρατέστερες τιμές** μιας λίστας αριθμών είναι το σύνολο εκείνων των αριθμών μέσα στη λίστα που εμφανίζονται τις περισσότερες φορές."
   ]
  },
  {
   "cell_type": "code",
   "execution_count": 74,
   "metadata": {
    "collapsed": false
   },
   "outputs": [
    {
     "name": "stdout",
     "output_type": "stream",
     "text": [
      "[10, 680, 390, 410, 440, 450, 450, 490, 520, 610, 650, 650, 670, 820, 960, 1130, 1140, 1240, 1260, 1360]\n",
      "<class 'collections.Counter'> Counter({450: 2, 650: 2, 960: 1, 390: 1, 680: 1, 10: 1, 1260: 1, 610: 1, 1360: 1, 520: 1, 820: 1, 1130: 1, 440: 1, 1140: 1, 410: 1, 1240: 1, 490: 1, 670: 1})\n",
      "2\n",
      "Η λίστα των επικρατέστερων τιμών της μεταβλητής var1 είναι [450, 650]\n"
     ]
    }
   ],
   "source": [
    "name = \"var1\"\n",
    "var1[1] = 680\n",
    "print var1\n",
    "counts = Counter(var1)\n",
    "print type(counts), counts\n",
    "max_count = max(counts.values())\n",
    "print max_count\n",
    "mode = [x_i for x_i, count in counts.iteritems() if count == max_count]\n",
    "print 'Η λίστα των επικρατέστερων τιμών της μεταβλητής', name, 'είναι', mode"
   ]
  },
  {
   "cell_type": "code",
   "execution_count": 76,
   "metadata": {
    "collapsed": false
   },
   "outputs": [
    {
     "name": "stdout",
     "output_type": "stream",
     "text": [
      "<class 'collections.Counter'> Counter({0: 19, 1: 13})\n",
      "19\n",
      "Η λίστα των επικρατέστερων τιμών της μεταβλητής am είναι [0]\n"
     ]
    }
   ],
   "source": [
    "name = \"am\"\n",
    "counts = Counter(am)\n",
    "print type(counts), counts\n",
    "max_count = max(counts.values())\n",
    "print max_count\n",
    "mode = [x_i for x_i, count in counts.iteritems() if count == max_count]\n",
    "print 'Η λίστα των επικρατέστερων τιμών της μεταβλητής', name, 'είναι', mode"
   ]
  },
  {
   "cell_type": "code",
   "execution_count": 192,
   "metadata": {
    "collapsed": false
   },
   "outputs": [
    {
     "name": "stdout",
     "output_type": "stream",
     "text": [
      "[1, 0, 1, 2, 0]\n",
      "<class 'collections.Counter'> Counter({0: 2, 1: 2, 2: 1})\n",
      "2\n",
      "Η λίστα των επικρατέστερων τιμών της μεταβλητής var2 είναι [0, 1]\n"
     ]
    }
   ],
   "source": [
    "name = \"var2\"\n",
    "var2 = [random.choice(range(3)) for _ in range(5)]\n",
    "print var2\n",
    "counts = Counter(var2)\n",
    "print type(counts), counts\n",
    "max_count = max(counts.values())\n",
    "print max_count\n",
    "mode = [x_i for x_i, count in counts.iteritems() if count == max_count]\n",
    "print 'Η λίστα των επικρατέστερων τιμών της μεταβλητής', name, 'είναι', mode"
   ]
  },
  {
   "cell_type": "code",
   "execution_count": 77,
   "metadata": {
    "collapsed": true
   },
   "outputs": [],
   "source": [
    "def mode(x):\n",
    "    counts = Counter(x)\n",
    "    max_count = max(counts.values())\n",
    "    return [x_i for x_i, count in counts.iteritems() if count == max_count]"
   ]
  },
  {
   "cell_type": "code",
   "execution_count": 78,
   "metadata": {
    "collapsed": false
   },
   "outputs": [
    {
     "name": "stdout",
     "output_type": "stream",
     "text": [
      "[17.02, 18.9] [175, 180, 110]\n"
     ]
    }
   ],
   "source": [
    "print mode(qsec), mode(hp)"
   ]
  },
  {
   "cell_type": "markdown",
   "metadata": {},
   "source": [
    "## First (Simple) Statistcs and Histograms of Data Counts"
   ]
  },
  {
   "cell_type": "markdown",
   "metadata": {},
   "source": [
    "### Histograms"
   ]
  },
  {
   "cell_type": "code",
   "execution_count": 13,
   "metadata": {
    "collapsed": false
   },
   "outputs": [
    {
     "name": "stdout",
     "output_type": "stream",
     "text": [
      "Counter({1: 22, 6: 22, 3: 20, 4: 20, 9: 18, 2: 17, 5: 17, 7: 15, 10: 15, 8: 13, 13: 4, 15: 4, 12: 2, 14: 2, 18: 2, 19: 2, 21: 2, 11: 1, 16: 1, 25: 1, 40: 1, 41: 1, 49: 1, 100: 1})\n"
     ]
    }
   ],
   "source": [
    "friend_counts = Counter(num_friends)   # A dictionary with number of friends as keys \n",
    "                                       # and number of people as values\n",
    "print friend_counts\n",
    "# print max(friend_counts.keys())\n",
    "# print max(friend_counts.values())"
   ]
  },
  {
   "cell_type": "code",
   "execution_count": 14,
   "metadata": {
    "collapsed": true
   },
   "outputs": [],
   "source": [
    "def make_data_counts_histogram(data,xname,yname):   # n, ,plt\n",
    "    data_counts = Counter(data)\n",
    "    n = max(data_counts.keys()) + 2\n",
    "    ymax=max(data_counts.values()) + 2\n",
    "    xs = range(n)\n",
    "    ys = [data_counts[x] for x in xs]\n",
    "    plt.bar(xs, ys)\n",
    "    plt.axis([0,n,0,ymax])\n",
    "    stitl=\"Histogram of %s Counts\" %xname\n",
    "    plt.title(stitl)\n",
    "    xtitl=\"# of %s\" %xname\n",
    "    ytitl=\"# of %s\" %yname\n",
    "    plt.xlabel(xtitl)\n",
    "    plt.ylabel(ytitl)\n",
    "    plt.show()"
   ]
  },
  {
   "cell_type": "code",
   "execution_count": 15,
   "metadata": {
    "collapsed": false,
    "scrolled": false
   },
   "outputs": [
    {
     "data": {
      "image/png": "[encoded data removed]",
      "text/plain": [
       "<matplotlib.figure.Figure at 0x1064222d0>"
      ]
     },
     "metadata": {},
     "output_type": "display_data"
    }
   ],
   "source": [
    "xname='Friends'\n",
    "yname='People'\n",
    "data = friend_counts\n",
    "\n",
    "plt.figure(figsize=(12,8))\n",
    "make_data_counts_histogram(data,xname,yname)   "
   ]
  },
  {
   "cell_type": "markdown",
   "metadata": {},
   "source": [
    "### First (Simplest) Statistics"
   ]
  },
  {
   "cell_type": "code",
   "execution_count": 16,
   "metadata": {
    "collapsed": false
   },
   "outputs": [
    {
     "name": "stdout",
     "output_type": "stream",
     "text": [
      "num_points = 204\n",
      "\n",
      "largest_value = 100\n",
      "smallest_value = 1\n",
      "second_smallest_value = 1\n",
      "second_largest_value = 49\n"
     ]
    }
   ],
   "source": [
    "num_points = len(num_friends)               # 204\n",
    "print 'num_points =', num_points\n",
    "print \n",
    "\n",
    "largest_value = max(num_friends)            # 100\n",
    "print 'largest_value =', largest_value\n",
    "smallest_value = min(num_friends)           # 1\n",
    "print 'smallest_value =', smallest_value \n",
    "sorted_values = sorted(num_friends)\n",
    "# smallest_value = sorted_values[0]         # 1\n",
    "# print 'smallest_value =', smallest_value\n",
    "second_smallest_value = sorted_values[1]    # 1\n",
    "print 'second_smallest_value =', second_smallest_value\n",
    "second_largest_value = sorted_values[-2]    # 49\n",
    "print 'second_largest_value =', second_largest_value"
   ]
  },
  {
   "cell_type": "markdown",
   "metadata": {},
   "source": [
    "## Measures of Dispersion: Range, Variance, Standard Deviation and Interquantile Range"
   ]
  },
  {
   "cell_type": "markdown",
   "metadata": {},
   "source": [
    "### Range"
   ]
  },
  {
   "cell_type": "code",
   "execution_count": 25,
   "metadata": {
    "collapsed": true
   },
   "outputs": [],
   "source": [
    "def data_range(x):\n",
    "    return max(x) - min(x)"
   ]
  },
  {
   "cell_type": "code",
   "execution_count": 26,
   "metadata": {
    "collapsed": false
   },
   "outputs": [
    {
     "data": {
      "text/plain": [
       "99"
      ]
     },
     "execution_count": 26,
     "metadata": {},
     "output_type": "execute_result"
    }
   ],
   "source": [
    "# The range is the difference between the largest and smallest elements.\n",
    "\n",
    "data_range(num_friends) # 99"
   ]
  },
  {
   "cell_type": "markdown",
   "metadata": {},
   "source": [
    "### Variance"
   ]
  },
  {
   "cell_type": "code",
   "execution_count": 29,
   "metadata": {
    "collapsed": true
   },
   "outputs": [],
   "source": [
    "def dot(v, w):\n",
    "    \"\"\"v_1 * w_1 + ... + v_n * w_n\"\"\"\n",
    "    return sum(v_i * w_i for v_i, w_i in zip(v, w))\n",
    "\n",
    "def sum_of_squares(v):\n",
    "    \"\"\"v_1 * v_1 + ... + v_n * v_n\"\"\"\n",
    "    return dot(v, v)\n",
    "\n",
    "def de_mean(x):\n",
    "    \"\"\"translate x by subtracting its mean (so the result has mean 0)\"\"\"\n",
    "    x_bar = mean(x)\n",
    "    return [x_i - x_bar for x_i in x]\n",
    "\n",
    "def variance(x):\n",
    "    \"\"\"assumes x has at least two elements\"\"\"\n",
    "    n = len(x)\n",
    "    deviations = de_mean(x)\n",
    "    return sum_of_squares(deviations) / (n - 1)"
   ]
  },
  {
   "cell_type": "code",
   "execution_count": 30,
   "metadata": {
    "collapsed": false
   },
   "outputs": [
    {
     "data": {
      "text/plain": [
       "81.54351395730716"
      ]
     },
     "execution_count": 30,
     "metadata": {},
     "output_type": "execute_result"
    }
   ],
   "source": [
    "# The variance is the average squared deviation from the mean, \n",
    "# except that we’re dividing by n-1 instead of n.\n",
    "\n",
    "variance(num_friends)   # 81.54"
   ]
  },
  {
   "cell_type": "markdown",
   "metadata": {},
   "source": [
    "### Standard Deviation"
   ]
  },
  {
   "cell_type": "code",
   "execution_count": 31,
   "metadata": {
    "collapsed": true
   },
   "outputs": [],
   "source": [
    "def standard_deviation(x):\n",
    "    return math.sqrt(variance(x))"
   ]
  },
  {
   "cell_type": "code",
   "execution_count": 32,
   "metadata": {
    "collapsed": false
   },
   "outputs": [
    {
     "data": {
      "text/plain": [
       "9.03014473623248"
      ]
     },
     "execution_count": 32,
     "metadata": {},
     "output_type": "execute_result"
    }
   ],
   "source": [
    "# The standard deviation is the square root of the variance.\n",
    "\n",
    "standard_deviation(num_friends) # 9.03"
   ]
  },
  {
   "cell_type": "markdown",
   "metadata": {},
   "source": [
    "### Interquantile Range"
   ]
  },
  {
   "cell_type": "code",
   "execution_count": 33,
   "metadata": {
    "collapsed": true
   },
   "outputs": [],
   "source": [
    "def interquartile_range(x):\n",
    "    return quantile(x, 0.75) - quantile(x, 0.25)"
   ]
  },
  {
   "cell_type": "code",
   "execution_count": 34,
   "metadata": {
    "collapsed": false
   },
   "outputs": [
    {
     "data": {
      "text/plain": [
       "6"
      ]
     },
     "execution_count": 34,
     "metadata": {},
     "output_type": "execute_result"
    }
   ],
   "source": [
    "# The interquantile range computes the difference between the 75th percentile value \n",
    "# and the 25th percentile value.\n",
    "\n",
    "interquartile_range(num_friends)   # 6"
   ]
  },
  {
   "cell_type": "markdown",
   "metadata": {},
   "source": [
    "### A Second Set of Data"
   ]
  },
  {
   "cell_type": "code",
   "execution_count": 35,
   "metadata": {
    "collapsed": false
   },
   "outputs": [
    {
     "name": "stdout",
     "output_type": "stream",
     "text": [
      "204\n"
     ]
    }
   ],
   "source": [
    "daily_minutes = [1,68.77,51.25,52.08,38.36,44.54,57.13,51.4,41.42,31.22,34.76,54.01,38.79,\\\n",
    "                 47.59,49.1,27.66,41.03,36.73,48.65,28.12,46.62,35.57,32.98,35,26.07,23.77,\n",
    "                 39.73,40.57,31.65,31.21,36.32,20.45,21.93,26.02,27.34,23.49,46.94,30.5,33.8,\n",
    "                 24.23,21.4,27.94,32.24,40.57,25.07,19.42,22.39,18.42,46.96,23.72,26.41,26.97,\n",
    "                 36.76,40.32,35.02,29.47,30.2,31,38.11,38.18,36.31,21.03,30.86,36.07,28.66,\n",
    "                 29.08,37.28,15.28,24.17,22.31,30.17,25.53,19.85,35.37,44.6,17.23,13.47,26.33,\n",
    "                 35.02,32.09,24.81,19.33,28.77,24.26,31.98,25.73,24.86,16.28,34.51,15.23,39.72,\n",
    "                 40.8,26.06,35.76,34.76,16.13,44.04,18.03,19.65,32.62,35.59,39.43,14.18,35.24,\n",
    "                 40.13,41.82,35.45,36.07,43.67,24.61,20.9,21.9,18.79,27.61,27.21,26.61,29.77,\n",
    "                 20.59,27.53,13.82,33.2,25,33.1,36.65,18.63,14.87,22.2,36.81,25.53,24.62,26.25,\n",
    "                 18.21,28.08,19.42,29.79,32.8,35.99,28.32,27.79,35.88,29.06,36.28,14.1,36.63,\n",
    "                 37.49,26.9,18.58,38.48,24.48,18.95,33.55,14.24,29.04,32.51,25.63,22.22,19,\n",
    "                 32.73,15.16,13.9,27.2,32.01,29.27,33,13.74,20.42,27.32,18.23,35.35,28.48,9.08,\n",
    "                 24.62,20.12,35.26,19.92,31.02,16.49,12.16,30.7,31.22,34.65,13.13,27.51,33.2,\n",
    "                 31.57,14.1,33.42,17.44,10.12,24.42,9.82,23.39,30.93,15.03,21.67,31.09,33.29,\n",
    "                 22.61,26.89,23.48,8.38,27.81,32.35,23.84]\n",
    "print len(daily_minutes)  # 204\n",
    "daily_minutes_counts = Counter(daily_minutes)  \n",
    "# print daily_minutes_counts\n",
    "# print max(daily_minutes_counts.keys())\n",
    "# print max(daily_minutes_counts.values())"
   ]
  },
  {
   "cell_type": "code",
   "execution_count": 36,
   "metadata": {
    "collapsed": true
   },
   "outputs": [],
   "source": [
    "def scatter_plot(data1,data2,name1,name2):\n",
    "    data1_counts = Counter(data1)\n",
    "    data2_counts = Counter(data2)\n",
    " #    n = max(data1_counts.keys()) + 2\n",
    "    xmax=max(data1_counts.keys()) + 2\n",
    "    ymax=max(data2_counts.keys()) + 2\n",
    " #    xs = range(n)\n",
    " #    ys = [data_counts[x] for x in xs]\n",
    "    plt.scatter(data1, data2)\n",
    "    plt.axis([0,xmax,0,ymax])\n",
    "    stitl=\"Scatterplot of Counts of %s and %s\" %(name1, name2)\n",
    "    plt.title(stitl)\n",
    "    xtitl=\"# of %s\" %name1\n",
    "    ytitl=\"# of %s\" %name2\n",
    "    plt.xlabel(xtitl)\n",
    "    plt.ylabel(ytitl)\n",
    "    plt.show()"
   ]
  },
  {
   "cell_type": "code",
   "execution_count": 37,
   "metadata": {
    "collapsed": false
   },
   "outputs": [
    {
     "name": "stderr",
     "output_type": "stream",
     "text": [
      "/Users/mosesboudourides/anaconda/lib/python2.7/site-packages/matplotlib/collections.py:590: FutureWarning: elementwise comparison failed; returning scalar instead, but in the future will perform elementwise comparison\n",
      "  if self._edgecolors == str('face'):\n"
     ]
    },
    {
     "data": {
      "image/png": "[encoded data removed]",
      "text/plain": [
       "<matplotlib.figure.Figure at 0x106c86310>"
      ]
     },
     "metadata": {},
     "output_type": "display_data"
    }
   ],
   "source": [
    "data1 = num_friends\n",
    "data2 = daily_minutes\n",
    "name1 = 'Friends'\n",
    "name2 = 'Daily Minutes'\n",
    "\n",
    "plt.figure(figsize=(12,8))\n",
    "scatter_plot(data1,data2,name1,name2)"
   ]
  },
  {
   "cell_type": "markdown",
   "metadata": {},
   "source": [
    "## Covariance and Correlation"
   ]
  },
  {
   "cell_type": "markdown",
   "metadata": {},
   "source": [
    "### Covariance"
   ]
  },
  {
   "cell_type": "code",
   "execution_count": 38,
   "metadata": {
    "collapsed": true
   },
   "outputs": [],
   "source": [
    "def covariance(x, y):\n",
    "    n = len(x)\n",
    "    return dot(de_mean(x), de_mean(y)) / (n - 1)"
   ]
  },
  {
   "cell_type": "code",
   "execution_count": 39,
   "metadata": {
    "collapsed": false
   },
   "outputs": [
    {
     "data": {
      "text/plain": [
       "22.425435139573064"
      ]
     },
     "execution_count": 39,
     "metadata": {},
     "output_type": "execute_result"
    }
   ],
   "source": [
    "# The covariance of two variables measures how two variables vary in tandem from their means.\n",
    "\n",
    "covariance(num_friends, daily_minutes)   # 22.43"
   ]
  },
  {
   "cell_type": "markdown",
   "metadata": {},
   "source": [
    "### Correlation"
   ]
  },
  {
   "cell_type": "code",
   "execution_count": 40,
   "metadata": {
    "collapsed": true
   },
   "outputs": [],
   "source": [
    "def correlation(x, y):\n",
    "    stdev_x = standard_deviation(x)\n",
    "    stdev_y = standard_deviation(y)\n",
    "    if stdev_x > 0 and stdev_y > 0:\n",
    "        return covariance(x, y) / stdev_x / stdev_y\n",
    "    else:\n",
    "        return 0 # if no variation, correlation is zero"
   ]
  },
  {
   "cell_type": "code",
   "execution_count": 41,
   "metadata": {
    "collapsed": false
   },
   "outputs": [
    {
     "data": {
      "text/plain": [
       "0.24736957366478218"
      ]
     },
     "execution_count": 41,
     "metadata": {},
     "output_type": "execute_result"
    }
   ],
   "source": [
    "# The correlation is the covariance of two variables \n",
    "# divided by the product of their standard deviations.\n",
    "\n",
    "correlation(num_friends, daily_minutes)   # 0.25"
   ]
  },
  {
   "cell_type": "markdown",
   "metadata": {},
   "source": [
    "### Removing Outliers"
   ]
  },
  {
   "cell_type": "code",
   "execution_count": 42,
   "metadata": {
    "collapsed": false
   },
   "outputs": [
    {
     "data": {
      "text/plain": [
       "0.5736792115665573"
      ]
     },
     "execution_count": 42,
     "metadata": {},
     "output_type": "execute_result"
    }
   ],
   "source": [
    "outlier = num_friends.index(100) # index of outlier\n",
    "num_friends_good = [x\n",
    "                    for i, x in enumerate(num_friends)\n",
    "                    if i != outlier]\n",
    "daily_minutes_good = [x\n",
    "                      for i, x in enumerate(daily_minutes)\n",
    "                      if i != outlier] \n",
    "\n",
    "correlation(num_friends_good, daily_minutes_good)   # 0.57"
   ]
  },
  {
   "cell_type": "code",
   "execution_count": 43,
   "metadata": {
    "collapsed": false
   },
   "outputs": [
    {
     "data": {
      "image/png": "[encoded data removed]",
      "text/plain": [
       "<matplotlib.figure.Figure at 0x106d0a910>"
      ]
     },
     "metadata": {},
     "output_type": "display_data"
    }
   ],
   "source": [
    "data1 = num_friends_good\n",
    "data2 = daily_minutes_good\n",
    "name1 = 'Friends without Outliers'\n",
    "name2 = 'Daily Minutes without Outliers'\n",
    "\n",
    "plt.figure(figsize=(12,8))\n",
    "scatter_plot(data1,data2,name1,name2)"
   ]
  },
  {
   "cell_type": "markdown",
   "metadata": {
    "collapsed": true
   },
   "source": [
    "## Distributions"
   ]
  },
  {
   "cell_type": "code",
   "execution_count": 44,
   "metadata": {
    "collapsed": false
   },
   "outputs": [],
   "source": [
    "from probability_functions import *"
   ]
  },
  {
   "cell_type": "code",
   "execution_count": 45,
   "metadata": {
    "collapsed": true
   },
   "outputs": [],
   "source": [
    "from IPython.display import display, Math, Latex"
   ]
  },
  {
   "cell_type": "markdown",
   "metadata": {},
   "source": [
    "### The Uniform Distribution"
   ]
  },
  {
   "cell_type": "markdown",
   "metadata": {},
   "source": [
    "The uniform probability density function (pdf) in $[0, 1]$: "
   ]
  },
  {
   "cell_type": "code",
   "execution_count": 46,
   "metadata": {
    "collapsed": false
   },
   "outputs": [
    {
     "data": {
      "text/latex": [
       "\\[ f(x) = \\left\\{ \\begin{array}{ll}\n",
       "1, & \\mbox{for $0 \\leq x < 1$,} \\\\\n",
       "0, & \\mbox{otherwise.}\n",
       "\\end{array}\n",
       "\\right.\n",
       "\\]"
      ],
      "text/plain": [
       "<IPython.core.display.Latex object>"
      ]
     },
     "metadata": {},
     "output_type": "display_data"
    }
   ],
   "source": [
    "%%latex \n",
    "\\[ f(x) = \\left\\{ \\begin{array}{ll}\n",
    "1, & \\mbox{for $0 \\leq x < 1$,} \\\\\n",
    "0, & \\mbox{otherwise.}\n",
    "\\end{array}\n",
    "\\right.\n",
    "\\]"
   ]
  },
  {
   "cell_type": "code",
   "execution_count": 47,
   "metadata": {
    "collapsed": false
   },
   "outputs": [
    {
     "data": {
      "image/png": "[encoded data removed]",
      "text/plain": [
       "<matplotlib.figure.Figure at 0x10703a190>"
      ]
     },
     "metadata": {},
     "output_type": "display_data"
    }
   ],
   "source": [
    "plt.figure(figsize=(12,8))\n",
    "uniform_pdf_plot()"
   ]
  },
  {
   "cell_type": "markdown",
   "metadata": {},
   "source": [
    "The uniform cumulative distribution function (cdf) in $[0, 1]$:"
   ]
  },
  {
   "cell_type": "code",
   "execution_count": 48,
   "metadata": {
    "collapsed": false
   },
   "outputs": [
    {
     "data": {
      "text/latex": [
       "\\[ F(x) = \\left\\{ \\begin{array}{ll}\n",
       "0, & \\mbox{for $x < 0$,} \\\\\n",
       "x, & \\mbox{for $0 \\leq x < 1$,} \\\\                 \n",
       "1, & \\mbox{for $x \\geq 1$.}\n",
       "\\end{array}\n",
       "\\right.\n",
       "\\]"
      ],
      "text/plain": [
       "<IPython.core.display.Latex object>"
      ]
     },
     "metadata": {},
     "output_type": "display_data"
    }
   ],
   "source": [
    "%%latex \n",
    "\\[ F(x) = \\left\\{ \\begin{array}{ll}\n",
    "0, & \\mbox{for $x < 0$,} \\\\\n",
    "x, & \\mbox{for $0 \\leq x < 1$,} \\\\                 \n",
    "1, & \\mbox{for $x \\geq 1$.}\n",
    "\\end{array}\n",
    "\\right.\n",
    "\\]"
   ]
  },
  {
   "cell_type": "code",
   "execution_count": 49,
   "metadata": {
    "collapsed": false
   },
   "outputs": [
    {
     "data": {
      "image/png": "[encoded data removed]",
      "text/plain": [
       "<matplotlib.figure.Figure at 0x1071ea7d0>"
      ]
     },
     "metadata": {},
     "output_type": "display_data"
    }
   ],
   "source": [
    "plt.figure(figsize=(12,8))\n",
    "uniform_cdf_plot()"
   ]
  },
  {
   "cell_type": "markdown",
   "metadata": {},
   "source": [
    "### The Normal Distribution"
   ]
  },
  {
   "cell_type": "markdown",
   "metadata": {},
   "source": [
    "The normal pdf with mean $\\mu$ and standard deviation $\\sigma$:"
   ]
  },
  {
   "cell_type": "code",
   "execution_count": 50,
   "metadata": {
    "collapsed": false
   },
   "outputs": [
    {
     "data": {
      "text/latex": [
       "\\[ \n",
       "f(x \\,|\\, \\mu, \\sigma) = \\frac{1}{\\sqrt{2 \\pi} \\sigma} \\exp \\Big( - \\frac{(x - \\mu)^2}{2 \\sigma^2} \\Big)\n",
       "\\]"
      ],
      "text/plain": [
       "<IPython.core.display.Latex object>"
      ]
     },
     "metadata": {},
     "output_type": "display_data"
    }
   ],
   "source": [
    "%%latex \n",
    "\\[ \n",
    "f(x \\,|\\, \\mu, \\sigma) = \\frac{1}{\\sqrt{2 \\pi} \\sigma} \\exp \\Big( - \\frac{(x - \\mu)^2}{2 \\sigma^2} \\Big)\n",
    "\\]"
   ]
  },
  {
   "cell_type": "code",
   "execution_count": 51,
   "metadata": {
    "collapsed": false
   },
   "outputs": [
    {
     "data": {
      "image/png": "[encoded data removed]",
      "text/plain": [
       "<matplotlib.figure.Figure at 0x106cc1890>"
      ]
     },
     "metadata": {},
     "output_type": "display_data"
    }
   ],
   "source": [
    "plt.figure(figsize=(12,8))\n",
    "plot_normal_pdfs()"
   ]
  },
  {
   "cell_type": "markdown",
   "metadata": {},
   "source": [
    "The normal cdf with mean $\\mu$ and standard deviation $\\sigma$:"
   ]
  },
  {
   "cell_type": "code",
   "execution_count": 52,
   "metadata": {
    "collapsed": false
   },
   "outputs": [
    {
     "data": {
      "text/latex": [
       "\\[\n",
       "\\Phi(x) = \\frac{1}{\\sqrt{2 \\pi}} \\int_{-\\infty}^{x} e^{-t^2} dt\n",
       "\\]"
      ],
      "text/plain": [
       "<IPython.core.display.Latex object>"
      ]
     },
     "metadata": {},
     "output_type": "display_data"
    }
   ],
   "source": [
    "%%latex\n",
    "\\[\n",
    "\\Phi(x) = \\frac{1}{\\sqrt{2 \\pi}} \\int_{-\\infty}^{x} e^{-t^2} dt\n",
    "\\]"
   ]
  },
  {
   "cell_type": "code",
   "execution_count": 53,
   "metadata": {
    "collapsed": false
   },
   "outputs": [
    {
     "data": {
      "image/png": "[encoded data removed]",
      "text/plain": [
       "<matplotlib.figure.Figure at 0x107267c50>"
      ]
     },
     "metadata": {},
     "output_type": "display_data"
    }
   ],
   "source": [
    "plt.figure(figsize=(12,8))\n",
    "plot_normal_cdfs()"
   ]
  },
  {
   "cell_type": "code",
   "execution_count": null,
   "metadata": {
    "collapsed": true
   },
   "outputs": [],
   "source": []
  },
  {
   "cell_type": "code",
   "execution_count": null,
   "metadata": {
    "collapsed": true
   },
   "outputs": [],
   "source": []
  },
  {
   "cell_type": "code",
   "execution_count": null,
   "metadata": {
    "collapsed": true
   },
   "outputs": [],
   "source": []
  },
  {
   "cell_type": "code",
   "execution_count": null,
   "metadata": {
    "collapsed": true
   },
   "outputs": [],
   "source": []
  },
  {
   "cell_type": "code",
   "execution_count": null,
   "metadata": {
    "collapsed": true
   },
   "outputs": [],
   "source": []
  }
 ],
 "metadata": {
  "kernelspec": {
   "display_name": "Python 2",
   "language": "python",
   "name": "python2"
  },
  "language_info": {
   "codemirror_mode": {
    "name": "ipython",
    "version": 2
   },
   "file_extension": ".py",
   "mimetype": "text/x-python",
   "name": "python",
   "nbconvert_exporter": "python",
   "pygments_lexer": "ipython2",
   "version": "2.7.11"
  }
 },
 "nbformat": 4,
 "nbformat_minor": 0
}
