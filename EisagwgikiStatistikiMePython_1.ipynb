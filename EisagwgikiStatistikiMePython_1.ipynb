{
 "cells": [
  {
   "cell_type": "markdown",
   "metadata": {},
   "source": [
    "# ΕΙΣΑΓΩΓΙΚΗ ΣΤΑΤΙΣΤΚΗ ΜΕ PYTHON - Ι"
   ]
  },
  {
   "cell_type": "code",
   "execution_count": 11,
   "metadata": {
    "collapsed": true
   },
   "outputs": [],
   "source": [
    "import math\n",
    "import random\n",
    "import csv\n",
    "import urllib2 # Διαχειριση URL\n",
    "from collections import Counter\n",
    "\n",
    "import matplotlib.pyplot as plt\n",
    "%matplotlib inline"
   ]
  },
  {
   "cell_type": "markdown",
   "metadata": {
    "collapsed": false
   },
   "source": [
    "## Λίστες Τυχαίων Αριθμών"
   ]
  },
  {
   "cell_type": "code",
   "execution_count": 12,
   "metadata": {
    "collapsed": false
   },
   "outputs": [
    {
     "data": {
      "text/plain": [
       "[8, 2, 3.3, 4, 7, 4, 7, 8, 9, 15]"
      ]
     },
     "execution_count": 12,
     "metadata": {},
     "output_type": "execute_result"
    }
   ],
   "source": [
    "dl = [] \n",
    "dl.append(8) # προσθετω αριθμους σε λιστα , μονο 1 καθε φορα\n",
    "dl.append(2)\n",
    "dl.append(3.3) \n",
    "dl.extend([4,7]) #αυξανει τι λιστα προσθετωντας νουμερα στο τελος \n",
    "dl.extend([4,7,8,9,15])\n",
    "\n",
    "dl"
   ]
  },
  {
   "cell_type": "code",
   "execution_count": 13,
   "metadata": {
    "collapsed": false
   },
   "outputs": [
    {
     "data": {
      "text/plain": [
       "5"
      ]
     },
     "execution_count": 13,
     "metadata": {},
     "output_type": "execute_result"
    }
   ],
   "source": [
    "dl = [] \n",
    "dl.append(8)\n",
    "dl.append(2)\n",
    "dl.append(3.3)\n",
    "dl.extend([4,7])\n",
    "dl\n",
    "len(dl)\n",
    "dl[3] = 3.3\n",
    "len(dl)"
   ]
  },
  {
   "cell_type": "markdown",
   "metadata": {},
   "source": [
    "#### 1. Δημιουργία λίστας πραγματικών αριθμών στο διάστημα [0, 1) με random.random"
   ]
  },
  {
   "cell_type": "code",
   "execution_count": 14,
   "metadata": {
    "collapsed": false
   },
   "outputs": [
    {
     "data": {
      "text/plain": [
       "0.6905231589274415"
      ]
     },
     "execution_count": 14,
     "metadata": {},
     "output_type": "execute_result"
    }
   ],
   "source": [
    "x = random.random()\n",
    "x"
   ]
  },
  {
   "cell_type": "code",
   "execution_count": 15,
   "metadata": {
    "collapsed": false
   },
   "outputs": [
    {
     "name": "stdout",
     "output_type": "stream",
     "text": [
      "[0.5591845442024462, 0.9191832661422088, 0.8947519834083212, 0.5943217920856406, 0.004501441027969011, 0.799630169839003, 0.019404609695875652, 0.06557904074552923, 0.37429226213203515, 0.08585290350276453]\n",
      "[0.559, 0.919, 0.894, 0.594, 0.004, 0.799, 0.019, 0.065, 0.374, 0.085]\n"
     ]
    }
   ],
   "source": [
    "rlist1 = [random.random() for _ in range(10)]\n",
    "print rlist1\n",
    "rlist1 = [float(int(a*1e3))*1e-3 for a in rlist1]\n",
    "print rlist1"
   ]
  },
  {
   "cell_type": "code",
   "execution_count": 16,
   "metadata": {
    "collapsed": false
   },
   "outputs": [
    {
     "name": "stdout",
     "output_type": "stream",
     "text": [
      "100000 0.001 <type 'float'> <type 'float'>\n"
     ]
    }
   ],
   "source": [
    "print int(1e5), float(1e-3), type(1e5), type(1e-5)"
   ]
  },
  {
   "cell_type": "markdown",
   "metadata": {},
   "source": [
    "#### 2. Δημιουργία λίστας πραγματικών αριθμών στο διάστημα [a, b] με random.uniform"
   ]
  },
  {
   "cell_type": "code",
   "execution_count": 17,
   "metadata": {
    "collapsed": false
   },
   "outputs": [
    {
     "data": {
      "text/plain": [
       "4.502202255580425"
      ]
     },
     "execution_count": 17,
     "metadata": {},
     "output_type": "execute_result"
    }
   ],
   "source": [
    "x = random.uniform(2,10)\n",
    "x"
   ]
  },
  {
   "cell_type": "code",
   "execution_count": 18,
   "metadata": {
    "collapsed": false
   },
   "outputs": [
    {
     "name": "stdout",
     "output_type": "stream",
     "text": [
      "[3.4584773873911274, -1.2255412485723571, 6.1434522355129, 4.132306594877502, 3.2643725245672517, 3.3519590446037757, -0.8581480196691613, -1.8974545017147375, 9.710349798024462, -0.07841185283257701]\n",
      "[3.458, -1.225, 6.143, 4.132, 3.2640000000000002, 3.351, -0.858, -1.897, 9.71, -0.078]\n"
     ]
    }
   ],
   "source": [
    "rlist1u = [random.uniform(-5,10) for _ in range(10)]\n",
    "print rlist1u\n",
    "rlist1u = [float(int(a*1e3))*1e-3 for a in rlist1u]\n",
    "print rlist1u"
   ]
  },
  {
   "cell_type": "markdown",
   "metadata": {},
   "source": [
    "#### 3. Δημιουργία λίστας πραγματικών αριθμών με random.normalvariate(mean, sdev) μέσω της κανονικής κατανομής με μέση τιμή mean και τυπική απόκλιση sdev"
   ]
  },
  {
   "cell_type": "code",
   "execution_count": 19,
   "metadata": {
    "collapsed": false
   },
   "outputs": [
    {
     "data": {
      "text/plain": [
       "-0.5549608061668523"
      ]
     },
     "execution_count": 19,
     "metadata": {},
     "output_type": "execute_result"
    }
   ],
   "source": [
    "x = random.normalvariate(-1,0.8)\n",
    "x"
   ]
  },
  {
   "cell_type": "code",
   "execution_count": 20,
   "metadata": {
    "collapsed": false
   },
   "outputs": [
    {
     "name": "stdout",
     "output_type": "stream",
     "text": [
      "[-0.21464961574029173, -0.21081985372157241, -0.5328227757584709, -0.7827741316891268, -0.007968985719780886, -0.45875830858865885, -1.2189592459343508, -1.1474421133735748, -2.209019951261689, -1.296361398959761]\n",
      "[-0.214, -0.21, -0.532, -0.782, -0.007, -0.458, -1.218, -1.147, -2.209, -1.296]\n"
     ]
    }
   ],
   "source": [
    "rlist1n = [random.normalvariate(-1,0.8) for _ in range(10)]\n",
    "print rlist1n\n",
    "rlist1n = [float(int(a*1e3))*1e-3 for a in rlist1n]\n",
    "print rlist1n"
   ]
  },
  {
   "cell_type": "markdown",
   "metadata": {},
   "source": [
    "#### 4. Δημιουργία λίστας ακέραιων με random.randrange"
   ]
  },
  {
   "cell_type": "code",
   "execution_count": 21,
   "metadata": {
    "collapsed": false
   },
   "outputs": [
    {
     "name": "stdout",
     "output_type": "stream",
     "text": [
      "[10, 14, 18]\n"
     ]
    },
    {
     "data": {
      "text/plain": [
       "15"
      ]
     },
     "execution_count": 21,
     "metadata": {},
     "output_type": "execute_result"
    }
   ],
   "source": [
    "rl1 = range(10,21,4)\n",
    "print rl1\n",
    "n = random.randrange(10,21)\n",
    "n"
   ]
  },
  {
   "cell_type": "code",
   "execution_count": 22,
   "metadata": {
    "collapsed": false
   },
   "outputs": [
    {
     "name": "stdout",
     "output_type": "stream",
     "text": [
      "[2, 1, 8, 7]\n",
      "[32, 47, 43, 33, 44, 34, 37, 40]\n",
      "[36, 39, 36, 39, 33, 36, 45, 48, 33, 48, 36, 48, 33, 45, 30]\n"
     ]
    }
   ],
   "source": [
    "rlist2 = [random.randrange(10) for _ in range(4)]\n",
    "print rlist2\n",
    "rlist3 = [random.randrange(30,50) for _ in range(8)]\n",
    "print rlist3\n",
    "rlist4 = [random.randrange(30,50,3) for _ in range(15)]\n",
    "print rlist4"
   ]
  },
  {
   "cell_type": "markdown",
   "metadata": {},
   "source": [
    "#### 5. Δημιουργία λίστας με random.shuffle"
   ]
  },
  {
   "cell_type": "code",
   "execution_count": 23,
   "metadata": {
    "collapsed": false
   },
   "outputs": [
    {
     "name": "stdout",
     "output_type": "stream",
     "text": [
      "[0, 1, 2, 3, 4, 5, 6, 7, 8, 9]\n",
      "[1, 0, 8, 4, 7, 3, 2, 9, 6, 5]\n",
      "[0.08068856687320836, 0.00024578572777234076, 0.7766087415715428, 0.3885480968435848, 0.969797532494732, 0.12768817319208237, 0.16053882309086398, 0.09407811161699897, 0.4910464453429264, 0.9910452794482767]\n",
      "[0.08, 0.0, 0.776, 0.388, 0.969, 0.127, 0.16, 0.094, 0.491, 0.991]\n"
     ]
    }
   ],
   "source": [
    "r10 = range(10)\n",
    "print r10\n",
    "random.shuffle(r10) #range(10)) \n",
    "print r10\n",
    "list1 = [random.random() for _ in range(10)]\n",
    "random.shuffle(list1)\n",
    "print list1\n",
    "list1 = [float(int(a*1e3))*1e-3 for a in list1]\n",
    "print list1"
   ]
  },
  {
   "cell_type": "markdown",
   "metadata": {},
   "source": [
    "#### 6. Δημιουργία λίστας με random.choice"
   ]
  },
  {
   "cell_type": "code",
   "execution_count": 24,
   "metadata": {
    "collapsed": false
   },
   "outputs": [
    {
     "name": "stdout",
     "output_type": "stream",
     "text": [
      "[0, 1, 2, 3, 4, 5, 6, 7, 8, 9, 10, 11, 12, 13, 14, 15, 16, 17, 18, 19]\n"
     ]
    },
    {
     "data": {
      "text/plain": [
       "17"
      ]
     },
     "execution_count": 24,
     "metadata": {},
     "output_type": "execute_result"
    }
   ],
   "source": [
    "r20 = range(20)\n",
    "print r20\n",
    "a = random.choice(r20)\n",
    "a"
   ]
  },
  {
   "cell_type": "code",
   "execution_count": 25,
   "metadata": {
    "collapsed": false
   },
   "outputs": [
    {
     "name": "stdout",
     "output_type": "stream",
     "text": [
      "[7, 2, 1, 4, 5, 0, 8, 3, 8, 2] 10\n",
      "[0.491, 0.16, 0.969, 0.991, 0.0, 0.969, 0.491, 0.991, 0.491, 0.969]\n"
     ]
    }
   ],
   "source": [
    "rlist5 = [random.choice(range(10)) for _ in range(10)]\n",
    "print rlist5, len(rlist5)\n",
    "rlist6 = [random.choice(list1) for _ in range(10)]\n",
    "print rlist6"
   ]
  },
  {
   "cell_type": "markdown",
   "metadata": {},
   "source": [
    "#### 7. Δημιουργία λίστας με random.sample (χωρίς επαναλήψεις)"
   ]
  },
  {
   "cell_type": "code",
   "execution_count": 26,
   "metadata": {
    "collapsed": false
   },
   "outputs": [
    {
     "name": "stdout",
     "output_type": "stream",
     "text": [
      "[34, 44, 15, 56, 55, 16, 31, 5, 28, 46]\n"
     ]
    }
   ],
   "source": [
    "rlist7 = random.sample(range(60),10)\n",
    "print rlist7"
   ]
  },
  {
   "cell_type": "markdown",
   "metadata": {},
   "source": [
    "## Εισαγωγή δεδομένων από αρχείο"
   ]
  },
  {
   "cell_type": "markdown",
   "metadata": {},
   "source": [
    "#### Δεδομένα από τοπικό αρχείο"
   ]
  },
  {
   "cell_type": "code",
   "execution_count": 27,
   "metadata": {
    "collapsed": false,
    "scrolled": true
   },
   "outputs": [
    {
     "name": "stdout",
     "output_type": "stream",
     "text": [
      "Timothy,1\n",
      "\n",
      "Baron,6\n",
      "\n",
      "['Homburg,1\\n', 'Ivanovitch,4\\n', 'Lovell,1\\n', 'Astley,38\\n', 'Alexandrovna,2\\n', 'Nadia,3\\n', 'Mischa,2\\n', 'Nicolai,1\\n', 'Martha,8\\n', 'Monsieur,3\\n', 'Hortense,1\\n', 'Therese,1\\n', 'Vassilievna,1\\n', 'Marquise,1\\n', 'Albert,2\\n', 'Potapitch,13\\n', 'Baroness,9\\n', 'Gretchen,2\\n', 'Lisette,1\\n', 'Philipovna,4\\n', 'Maria,6\\n', 'Petrovitch,1\\n', 'Marquis,7\\n', 'Mademoiselle,1\\n', 'Alexis,22\\n', 'Madame,2\\n', 'Burmergelm,2\\n', 'Griers,44\\n', 'Cominges,1\\n', 'Zelma,6\\n', 'Prascovia,1\\n', 'Antonida,1\\n', 'Grandmother,1\\n', 'Grandmamma,1\\n', 'Polina,81\\n', 'Baden,1\\n', 'Fraulein,1\\n', 'Blanchard,1\\n', 'Blanche,27\\n', 'Theodosia,1\\n', 'Paul,1\\n', 'Prince,2\\n']\n"
     ]
    }
   ],
   "source": [
    "f = open('names-freqs.csv')\n",
    "print f.readline()\n",
    "print f.readline()\n",
    "list_names_freqs = f.readlines()\n",
    "print list_names_freqs"
   ]
  },
  {
   "cell_type": "code",
   "execution_count": 28,
   "metadata": {
    "collapsed": false,
    "scrolled": true
   },
   "outputs": [
    {
     "name": "stdout",
     "output_type": "stream",
     "text": [
      "['Baron', 'Homburg', 'Ivanovitch', 'Lovell', 'Astley', 'Alexandrovna', 'Nadia', 'Mischa', 'Nicolai', 'Martha', 'Monsieur', 'Hortense', 'Therese', 'Vassilievna', 'Marquise', 'Albert', 'Potapitch', 'Baroness', 'Gretchen', 'Lisette', 'Philipovna', 'Maria', 'Petrovitch', 'Marquis', 'Mademoiselle', 'Alexis', 'Madame', 'Burmergelm', 'Griers', 'Cominges', 'Zelma', 'Prascovia', 'Antonida', 'Grandmother', 'Grandmamma', 'Polina', 'Baden', 'Fraulein', 'Blanchard', 'Blanche', 'Theodosia', 'Paul', 'Prince']\n",
      "[6, 1, 4, 1, 38, 2, 3, 2, 1, 8, 3, 1, 1, 1, 1, 2, 13, 9, 2, 1, 4, 6, 1, 7, 1, 22, 2, 2, 44, 1, 6, 1, 1, 1, 1, 81, 1, 1, 1, 27, 1, 1, 2]\n"
     ]
    }
   ],
   "source": [
    "names = []\n",
    "freqs = []\n",
    "with open('names-freqs.csv') as f:\n",
    "    reader = csv.reader(f)\n",
    "    next(reader)\n",
    "    for row in reader:\n",
    "        names.append(str(row[0]))\n",
    "        freqs.append(int(row[1]))\n",
    "print names\n",
    "print freqs"
   ]
  },
  {
   "cell_type": "code",
   "execution_count": 31,
   "metadata": {
    "collapsed": false,
    "scrolled": true
   },
   "outputs": [
    {
     "name": "stdout",
     "output_type": "stream",
     "text": [
      "Search term,7-Nov-15,15-Nov-15,22-Nov-15,29-Nov-15,6-Dec-15,13-Dec-15,20-Dec-15,27-Dec-15,3-Jan-16\r",
      "#refugeeconvoy,231,260,275,284,290,295,296,298,300\r",
      "#refugeecrisis,84322,124904,163352,186157,204363,221863,235107,244731,252250\r",
      "#refugeemarch,2,6,6,148,149,149,151,151,151\r",
      "#refugees,132231,209627,343019,425357,475432,523799,565829,602519,627576\r",
      "#refugeesGR,27894,35118,40382,47627,53475,60348,65542,70427,74480\r",
      "#refugeeswelcome,62997,109796,270169,329168,360837,393349,420177,436757,441665\r",
      "Fluechtling,7339,13316,17315,24571,28121,31851,35813,39307,41540\r",
      "flykting,1565,3223,4219,5420,6379,7339,7926,8418,9077\r",
      "menekult,185,288,329,395,466,543,612,677,714\r",
      "muelteci,21828,51338,67872,86951,115314,131271,146647,160039,167811\r",
      "refugee,419267,828147,1655449,2226792,2485401,2744975,2963631,3133352,3419267\r",
      "rifugiato,412,3667,4839,5610,6030,6676,7244,7586,7927\r",
      "refugie,7086,19353,27542,31503,34096,36569,39907,42711,44048\r",
      "#paris,0,0,1917259,2640829,3124246,3311799,3516921,3634226,3737076\r",
      "#parisattacks,0,0,1979327,2995823,3131640,3173138,3198119,3208478,3220218\r",
      "#PorteOuverte,0,0,1019674,1025397,1026028,1026288,1026526,1026662,1026742\n"
     ]
    }
   ],
   "source": [
    "\n",
    "with open('hashtags-dates.csv', 'r') as f:\n",
    "#     print len(f.readlines())\n",
    "    lines=f.readlines()\n",
    "    lines=lines[0].split(\"\\\\n\")\n",
    "#     print f.readlines().split('\\')\n",
    "    for line in lines:\n",
    "        print line\n",
    "\n",
    "# f = open('hashtags-dates.csv','r')\n",
    "# print f.readline()\n",
    "# print f.readline()\n",
    "# list_hashtags_dates = f.readlines()\n",
    "# print list_hashtags_dates"
   ]
  },
  {
   "cell_type": "code",
   "execution_count": 32,
   "metadata": {
    "collapsed": false
   },
   "outputs": [
    {
     "name": "stdout",
     "output_type": "stream",
     "text": [
      "['#refugeeconvoy', '#refugeecrisis', '#refugeemarch', '#refugees', '#refugeesGR', '#refugeeswelcome', 'Fluechtling', 'flykting', 'menekult', 'muelteci', 'refugee', 'rifugiato', 'refugie', '#paris', '#parisattacks', '#PorteOuverte']\n",
      "[284, 186157, 148, 425357, 47627, 329168, 24571, 5420, 395, 86951, 2226792, 5610, 31503, 2640829, 2995823, 1025397]\n"
     ]
    }
   ],
   "source": [
    "hashtags = []\n",
    "date1 = []\n",
    "date2 = []\n",
    "date3 = []\n",
    "date4 = []\n",
    "date5 = []\n",
    "date6 = []\n",
    "date7 = []\n",
    "date8 = []\n",
    "date9 = []\n",
    "with open('hashtags-dates.csv','rU') as f:\n",
    "    reader = csv.reader(f)\n",
    "    next(reader)\n",
    "    for row in reader:\n",
    "        hashtags.append(str(row[0]))\n",
    "        date1.append(int(row[1]))\n",
    "        date2.append(int(row[2]))\n",
    "        date3.append(int(row[3]))\n",
    "        date4.append(int(row[4]))\n",
    "        date5.append(int(row[5]))\n",
    "        date6.append(int(row[6]))\n",
    "        date7.append(int(row[7]))\n",
    "        date8.append(int(row[8]))\n",
    "        date9.append(int(row[9]))\n",
    "print hashtags\n",
    "print date4"
   ]
  },
  {
   "cell_type": "markdown",
   "metadata": {},
   "source": [
    "#### Δημιουργία λεξικού από δυο μεταβλητές"
   ]
  },
  {
   "cell_type": "code",
   "execution_count": 33,
   "metadata": {
    "collapsed": false
   },
   "outputs": [
    {
     "name": "stdout",
     "output_type": "stream",
     "text": [
      "{'Baron': 6, 'Homburg': 1, 'Ivanovitch': 4, 'Lovell': 1, 'Astley': 38, 'Alexandrovna': 2, 'Nadia': 3, 'Mischa': 2, 'Nicolai': 1, 'Martha': 8, 'Monsieur': 3, 'Hortense': 1, 'Therese': 1, 'Vassilievna': 1, 'Marquise': 1, 'Albert': 2, 'Potapitch': 13, 'Baroness': 9, 'Gretchen': 2, 'Lisette': 1, 'Philipovna': 4, 'Maria': 6, 'Petrovitch': 1, 'Marquis': 7, 'Alexis': 22, 'Madame': 2, 'Burmergelm': 2, 'Griers': 44, 'Cominges': 1, 'Zelma': 6, 'Grandmamma': 1, 'Antonida': 1, 'Mademoiselle': 1, 'Prascovia': 1, 'Polina': 81, 'Baden': 1, 'Grandmother': 1, 'Blanchard': 1, 'Prince': 2, 'Blanche': 27, 'Theodosia': 1, 'Paul': 1, 'Fraulein': 1}\n"
     ]
    }
   ],
   "source": [
    "names_freqs_d = dict((str(k), v) for k, v in zip(names,freqs)) \n",
    "print names_freqs_d"
   ]
  },
  {
   "cell_type": "code",
   "execution_count": 34,
   "metadata": {
    "collapsed": false
   },
   "outputs": [
    {
     "name": "stdout",
     "output_type": "stream",
     "text": [
      "{'#PorteOuverte': 1025397, '#refugeecrisis': 186157, '#parisattacks': 2995823, '#refugeeconvoy': 284, '#refugees': 425357, 'Fluechtling': 24571, '#paris': 2640829, 'menekult': 395, 'muelteci': 86951, '#refugeesGR': 47627, 'flykting': 5420, 'rifugiato': 5610, '#refugeemarch': 148, 'refugee': 2226792, 'refugie': 31503, '#refugeeswelcome': 329168}\n"
     ]
    }
   ],
   "source": [
    "hashtags_date4_d = dict((str(k), v) for k, v in zip(hashtags,date4)) \n",
    "print hashtags_date4_d"
   ]
  },
  {
   "cell_type": "markdown",
   "metadata": {},
   "source": [
    "#### Αναζήτηση κλειδιών από τιμές σε λεξικό"
   ]
  },
  {
   "cell_type": "code",
   "execution_count": 35,
   "metadata": {
    "collapsed": false
   },
   "outputs": [
    {
     "name": "stdout",
     "output_type": "stream",
     "text": [
      "['Alexandrovna', 'Mischa', 'Albert', 'Gretchen', 'Madame', 'Burmergelm', 'Prince']\n"
     ]
    }
   ],
   "source": [
    "search_freqs = 2\n",
    "search_names = []\n",
    "for name in names_freqs_d.keys():\n",
    "    if names_freqs_d[name] == search_freqs:\n",
    "        search_names.append(name)\n",
    "print search_names"
   ]
  },
  {
   "cell_type": "code",
   "execution_count": 36,
   "metadata": {
    "collapsed": false
   },
   "outputs": [
    {
     "name": "stdout",
     "output_type": "stream",
     "text": [
      "['Fluechtling']\n"
     ]
    }
   ],
   "source": [
    "search_h = 24571\n",
    "search_names = []\n",
    "for name in hashtags_date4_d.keys():\n",
    "    if hashtags_date4_d[name] == search_h:\n",
    "        search_names.append(name)\n",
    "print search_names"
   ]
  },
  {
   "cell_type": "markdown",
   "metadata": {},
   "source": [
    "#### Δεδομένα από το Internet"
   ]
  },
  {
   "cell_type": "code",
   "execution_count": 37,
   "metadata": {
    "collapsed": false
   },
   "outputs": [
    {
     "name": "stdout",
     "output_type": "stream",
     "text": [
      "['Mazda RX4', 'Mazda RX4 Wag', 'Datsun 710', 'Hornet 4 Drive', 'Hornet Sportabout', 'Valiant', 'Duster 360', 'Merc 240D', 'Merc 230', 'Merc 280', 'Merc 280C', 'Merc 450SE', 'Merc 450SL', 'Merc 450SLC', 'Cadillac Fleetwood', 'Lincoln Continental', 'Chrysler Imperial', 'Fiat 128', 'Honda Civic', 'Toyota Corolla', 'Toyota Corona', 'Dodge Challenger', 'AMC Javelin', 'Camaro Z28', 'Pontiac Firebird', 'Fiat X1-9', 'Porsche 914-2', 'Lotus Europa', 'Ford Pantera L', 'Ferrari Dino', 'Maserati Bora', 'Volvo 142E']\n",
      "[21.0, 21.0, 22.8, 21.4, 18.7, 18.1, 14.3, 24.4, 22.8, 19.2, 17.8, 16.4, 17.3, 15.2, 10.4, 10.4, 14.7, 32.4, 30.4, 33.9, 21.5, 15.5, 15.2, 13.3, 19.2, 27.3, 26.0, 30.4, 15.8, 19.7, 15.0, 21.4]\n",
      "[110, 110, 93, 110, 175, 105, 245, 62, 95, 123, 123, 180, 180, 180, 205, 215, 230, 66, 52, 65, 97, 150, 150, 245, 175, 66, 91, 113, 264, 175, 335, 109]\n"
     ]
    }
   ],
   "source": [
    "url = 'https://vincentarelbundock.github.io/Rdatasets/csv/datasets/mtcars.csv'\n",
    "response = urllib2.urlopen(url)\n",
    "cars = []\n",
    "mpg\t= []\n",
    "cyl = []\n",
    "disp = []\n",
    "hp = []\n",
    "drat = []\n",
    "wt = []\n",
    "qsec = []\n",
    "vs = []\n",
    "am = []\n",
    "gear = []\n",
    "carb = []\n",
    "reader = csv.reader(response)\n",
    "next(reader)\n",
    "for row in reader:\n",
    "    cars.append(str(row[0]))\n",
    "    mpg.append(float(row[1]))\n",
    "    cyl.append(int(row[2]))\n",
    "    disp.append(float(row[3]))\n",
    "    hp.append(int(row[4]))\n",
    "    drat.append(float(row[5]))\n",
    "    wt.append(float(row[6]))\n",
    "    qsec.append(float(row[7]))\n",
    "    vs.append(int(row[8]))\n",
    "    am.append(int(row[9]))\n",
    "    gear.append(int(row[10]))\n",
    "    carb.append(int(row[11]))\n",
    "print cars\n",
    "print mpg\n",
    "print hp"
   ]
  },
  {
   "cell_type": "markdown",
   "metadata": {},
   "source": [
    "## ΜΕΣΗ ΤΙΜΗ"
   ]
  },
  {
   "cell_type": "markdown",
   "metadata": {},
   "source": [
    "Η **μέση τιμή** μιας λίστας αριθμών ορίζεται ώς το άθροισμα των αριθμών διαιρούμενο με το πλήθος τους."
   ]
  },
  {
   "cell_type": "code",
   "execution_count": 38,
   "metadata": {
    "collapsed": false
   },
   "outputs": [
    {
     "name": "stdout",
     "output_type": "stream",
     "text": [
      "[1020, 1350, 780, 40, 770, 150, 810, 1480, 0, 710, 640, 680, 660, 1190, 440, 70, 980, 700, 560, 770]\n"
     ]
    }
   ],
   "source": [
    "var1 = [random.choice(range(0,1500,10)) for _ in range(20)]\n",
    "print var1"
   ]
  },
  {
   "cell_type": "code",
   "execution_count": 39,
   "metadata": {
    "collapsed": false
   },
   "outputs": [
    {
     "name": "stdout",
     "output_type": "stream",
     "text": [
      "13800\n",
      "20\n",
      "Η μέση τιμή της μεταβλητής var1 είναι 690.00\n"
     ]
    }
   ],
   "source": [
    "name = \"var1\"\n",
    "s = sum(var1)\n",
    "N = len(var1)\n",
    "mean = s/float(N)\n",
    "print s\n",
    "print N\n",
    "print 'Η μέση τιμή της μεταβλητής %s είναι %.2f' %(name,mean)"
   ]
  },
  {
   "cell_type": "code",
   "execution_count": 40,
   "metadata": {
    "collapsed": false
   },
   "outputs": [
    {
     "name": "stdout",
     "output_type": "stream",
     "text": [
      "102.952\n",
      "32\n",
      "[2.62, 2.875, 2.32, 3.215, 3.44, 3.46, 3.57, 3.19, 3.15, 3.44, 3.44, 4.07, 3.73, 3.78, 5.25, 5.424, 5.345, 2.2, 1.615, 1.835, 2.465, 3.52, 3.435, 3.84, 3.845, 1.935, 2.14, 1.513, 3.17, 2.77, 3.57, 2.78]\n",
      "Η μέση τιμή της μεταβλητής wt είναι 3.22\n"
     ]
    }
   ],
   "source": [
    "name = \"wt\"\n",
    "s = sum(wt)\n",
    "N = len(wt)\n",
    "mean = s/float(N)\n",
    "print s\n",
    "print N\n",
    "print wt\n",
    "print 'Η μέση τιμή της μεταβλητής %s είναι %.2f' %(name,mean)"
   ]
  },
  {
   "cell_type": "code",
   "execution_count": 41,
   "metadata": {
    "collapsed": true
   },
   "outputs": [],
   "source": [
    "def mean(x):\n",
    "    mean = sum(x)/float(len(x))\n",
    "    return mean"
   ]
  },
  {
   "cell_type": "code",
   "execution_count": 42,
   "metadata": {
    "collapsed": false
   },
   "outputs": [
    {
     "data": {
      "text/plain": [
       "3.2172499999999995"
      ]
     },
     "execution_count": 42,
     "metadata": {},
     "output_type": "execute_result"
    }
   ],
   "source": [
    "mean(wt)"
   ]
  },
  {
   "cell_type": "markdown",
   "metadata": {},
   "source": [
    "## ΕΝΔΙΑΜΕΣΗ ΤΙΜΗ"
   ]
  },
  {
   "cell_type": "markdown",
   "metadata": {},
   "source": [
    "Η **ενδιάμεση τιμή** μιας λίστας αριθμών ορίζεται ως ο αριθμός εκείνος εντός ή εκτός της λίστας, που είναι τέτοιος ώστε το πλήθος των αριθμών της λίστας που είναι μικρότεροί του να είναι το ίδιο με το πλήθος των αριθμών της λίστας που είναι μεγαλύτεροί του.\n",
    "\n",
    "Επομένως, όταν η λίστα έχει περιττό πλήθος αριθμών, τότε η ενδιάμεση τιμή της είναι ένας από τους αριθμούς της λίστας, ενώ όταν η λίστα έχει άρτιο αριθμό, τότε η ενδιάμεση τιμής της είναι ένας αριθμός εκτός λίστας, που ορίζεται ως η μέση τιμή του κάτω ενδιάμεσου και του πάνω ενδιάμεσου της λίστας. Στην περίπτωση αυτή, ο κάτω και ο πάνω ενδιάμεσοςτης λίστας ορίζονται ως οι δυο διαδοχικοί αριθμοί μέσα στη λίστα, που είναι τέτοιοι ώστε το πλήθος των αριθμών της λίστας που είναι μικρότεροι του κάτω ενδιάμεσου να είναι το ίδιο με το πλήθος των αριθμών της λίστας που είναι μεγαλύτεροι του πάνω ενδιάμεσου. "
   ]
  },
  {
   "cell_type": "code",
   "execution_count": 43,
   "metadata": {
    "collapsed": false
   },
   "outputs": [
    {
     "name": "stdout",
     "output_type": "stream",
     "text": [
      "[1020, 1350, 780, 40, 770, 150, 810, 1480, 0, 710, 640, 680, 660, 1190, 440, 70, 980, 700, 560, 770]\n",
      "20\n",
      "[0, 40, 70, 150, 440, 560, 640, 660, 680, 700, 710, 770, 770, 780, 810, 980, 1020, 1190, 1350, 1480]\n",
      "[1480, 1350, 1190, 1020, 980, 810, 780, 770, 770, 710, 700, 680, 660, 640, 560, 440, 150, 70, 40, 0]\n"
     ]
    }
   ],
   "source": [
    "print var1\n",
    "print len(var1)\n",
    "print sorted(var1)\n",
    "print sorted(var1, reverse=True)"
   ]
  },
  {
   "cell_type": "code",
   "execution_count": 44,
   "metadata": {
    "collapsed": false
   },
   "outputs": [
    {
     "name": "stdout",
     "output_type": "stream",
     "text": [
      "True\n",
      "10\n",
      "700 710\n",
      "Η ενδιάμεση τιμή της μεταβλητής wt είναι 705.00\n"
     ]
    }
   ],
   "source": [
    "print len(var1) % 2 == 0\n",
    "midpoint = len(var1)/2\n",
    "lowermidpoint = midpoint - 1\n",
    "uppermidpoint = midpoint\n",
    "median = (sorted(var1)[lowermidpoint] + sorted(var1)[uppermidpoint])/2.\n",
    "print midpoint\n",
    "print sorted(var1)[lowermidpoint], sorted(var1)[uppermidpoint]\n",
    "print 'Η ενδιάμεση τιμή της μεταβλητής %s είναι %.2f' %(name,median)"
   ]
  },
  {
   "cell_type": "code",
   "execution_count": 45,
   "metadata": {
    "collapsed": false
   },
   "outputs": [
    {
     "name": "stdout",
     "output_type": "stream",
     "text": [
      "False\n",
      "9\n",
      "Η ενδιάμεση τιμή της μεταβλητής var1o είναι 740.00\n"
     ]
    }
   ],
   "source": [
    "name = \"var1o\"\n",
    "var1o = [random.choice(range(0,1500,10)) for _ in range(19)]\n",
    "print len(var1o) % 2 == 0\n",
    "midpoint = len(var1o)//2\n",
    "median = sorted(var1o)[midpoint]\n",
    "print midpoint\n",
    "print 'Η ενδιάμεση τιμή της μεταβλητής %s είναι %.2f' %(name,median)"
   ]
  },
  {
   "cell_type": "code",
   "execution_count": 46,
   "metadata": {
    "collapsed": true
   },
   "outputs": [],
   "source": [
    "def median(x):\n",
    "    N = len(x)\n",
    "    x.sort()\n",
    "    if N % 2 == 0: # if N is even\n",
    "        m1 = N/2\n",
    "        m2 = (N/2) + 1\n",
    "        # convert to integer, match position\n",
    "        m1 = int(m1) - 1\n",
    "        m2 = int(m2) - 1\n",
    "        median = (x[m1] + x[m2])/2\n",
    "    else:\n",
    "        m = (N+1)/2\n",
    "        # convert to integer, match position\n",
    "        m = int(m) - 1\n",
    "        median = x[m]\n",
    "    return median"
   ]
  },
  {
   "cell_type": "code",
   "execution_count": 47,
   "metadata": {
    "collapsed": false
   },
   "outputs": [
    {
     "name": "stdout",
     "output_type": "stream",
     "text": [
      "17.71 3.325 705 740\n",
      "[14.5, 14.6, 15.41, 15.5, 15.84, 16.46, 16.7, 16.87, 16.9, 17.02, 17.02, 17.05, 17.3, 17.4, 17.42, 17.6, 17.82, 17.98, 18.0, 18.3, 18.52, 18.6, 18.61, 18.9, 18.9, 19.44, 19.47, 19.9, 20.0, 20.01, 20.22, 22.9]\n"
     ]
    }
   ],
   "source": [
    "print median(qsec), median(wt), median(var1), median(var1o) \n",
    "print qsec"
   ]
  },
  {
   "cell_type": "markdown",
   "metadata": {},
   "source": [
    "## ΕΚΑΤΟΣΤΗΜΟΡΙΑ"
   ]
  },
  {
   "cell_type": "markdown",
   "metadata": {},
   "source": [
    "Το **p-εκατοστημόριο** μιας λίστας αριθμών είναι εκείνος ο αριθμός, που είναι τέτοιος ώστε, όταν οι αριθμοί της λίστας διαταχθούν σε αύξουσα σειρά, το p% των αριθμών της λίστας να είναι μικρότερό του και το (100-p)% των αριθμών της λίστας να είναι μεγαλύτερό του.\n",
    "\n",
    "Προφανώς, όταν το πλήθος των αριθμών της λίστας είναι περιττό, το 0.5-εκατοστημόριο είναι ακριβώς η ενδιάμεση τιμή."
   ]
  },
  {
   "cell_type": "code",
   "execution_count": 48,
   "metadata": {
    "collapsed": false
   },
   "outputs": [
    {
     "name": "stdout",
     "output_type": "stream",
     "text": [
      "[130, 150, 190, 230, 320, 480, 600, 660, 740, 740, 850, 1060, 1080, 1090, 1120, 1320, 1380, 1380, 1430]\n",
      "[130, 150, 190, 230, 320, 480, 600, 660, 740, 740, 850, 1060, 1080, 1090, 1120, 1320, 1380, 1380, 1430]\n",
      "Το 0.10-εκατοστημόριο της μεταβλητής var1o είναι 150\n",
      "Το 0.25-εκατοστημόριο της μεταβλητής var1o είναι 320\n",
      "Το 0.50-εκατοστημόριο της μεταβλητής var1o είναι 740\n",
      "Το 0.75-εκατοστημόριο της μεταβλητής var1o είναι 1120\n",
      "Το 0.90-εκατοστημόριο της μεταβλητής var1o είναι 1380\n"
     ]
    }
   ],
   "source": [
    "name = \"var1o\"\n",
    "print var1o\n",
    "print sorted(var1o)\n",
    "plist = [0.10, 0.25, 0.50, 0.75, 0.90]\n",
    "for p in plist:\n",
    "    p_index = int(p * len(var1o))\n",
    "    print 'Το %.2f-εκατοστημόριο της μεταβλητής %s είναι %d' %(p,name,sorted(var1o)[p_index])"
   ]
  },
  {
   "cell_type": "code",
   "execution_count": 49,
   "metadata": {
    "collapsed": true
   },
   "outputs": [],
   "source": [
    "def quantile(x, p):\n",
    "    \"\"\"returns the pth-percentile value in x\"\"\"\n",
    "    p_index = int(p * len(x))\n",
    "    return sorted(x)[p_index]"
   ]
  },
  {
   "cell_type": "code",
   "execution_count": 50,
   "metadata": {
    "collapsed": false
   },
   "outputs": [
    {
     "name": "stdout",
     "output_type": "stream",
     "text": [
      "1120 2.14 18.3\n"
     ]
    }
   ],
   "source": [
    "print quantile(var1o,0.75), quantile(wt,0.15), quantile(qsec,0.60)"
   ]
  },
  {
   "cell_type": "markdown",
   "metadata": {},
   "source": [
    "## ΕΠΙΚΡΑΤΕΣΤΕΡΗ/ΕΣ ΤΙΜΗ/ΕΣ"
   ]
  },
  {
   "cell_type": "markdown",
   "metadata": {},
   "source": [
    "Οι **επικρατέστερες τιμές** μιας λίστας αριθμών είναι το σύνολο εκείνων των αριθμών μέσα στη λίστα που εμφανίζονται τις περισσότερες φορές."
   ]
  },
  {
   "cell_type": "code",
   "execution_count": 51,
   "metadata": {
    "collapsed": false
   },
   "outputs": [
    {
     "name": "stdout",
     "output_type": "stream",
     "text": [
      "[1150, 870, 820, 1100, 120, 1470, 280, 890, 590, 1430, 1260, 690, 920, 740, 220, 1160, 20, 270, 290, 1430]\n",
      "[1150, 680, 820, 1100, 120, 1470, 280, 890, 590, 1430, 1260, 690, 920, 740, 220, 1160, 20, 270, 290, 1430]\n",
      "<class 'collections.Counter'> Counter({1430: 2, 290: 1, 740: 1, 270: 1, 680: 1, 1260: 1, 1160: 1, 1100: 1, 590: 1, 280: 1, 690: 1, 820: 1, 1150: 1, 120: 1, 20: 1, 890: 1, 920: 1, 220: 1, 1470: 1})\n",
      "2\n",
      "Η λίστα των επικρατέστερων τιμών της μεταβλητής var1 είναι [1430]\n"
     ]
    }
   ],
   "source": [
    "var1 = [random.choice(range(0,1500,10)) for _ in range(20)]\n",
    "print var1\n",
    "\n",
    "name = \"var1\"\n",
    "var1[1] = 680\n",
    "print var1\n",
    "counts = Counter(var1)\n",
    "print type(counts), counts\n",
    "max_count = max(counts.values())\n",
    "print max_count\n",
    "mode = [x_i for x_i, count in counts.iteritems() if count == max_count]\n",
    "print 'Η λίστα των επικρατέστερων τιμών της μεταβλητής', name, 'είναι', mode"
   ]
  },
  {
   "cell_type": "code",
   "execution_count": 52,
   "metadata": {
    "collapsed": false
   },
   "outputs": [
    {
     "name": "stdout",
     "output_type": "stream",
     "text": [
      "<class 'collections.Counter'> Counter({0: 19, 1: 13})\n",
      "19\n",
      "Η λίστα των επικρατέστερων τιμών της μεταβλητής am είναι [0]\n"
     ]
    }
   ],
   "source": [
    "name = \"am\"\n",
    "counts = Counter(am)\n",
    "print type(counts), counts\n",
    "max_count = max(counts.values())\n",
    "print max_count\n",
    "mode = [x_i for x_i, count in counts.iteritems() if count == max_count]\n",
    "print 'Η λίστα των επικρατέστερων τιμών της μεταβλητής', name, 'είναι', mode"
   ]
  },
  {
   "cell_type": "code",
   "execution_count": 53,
   "metadata": {
    "collapsed": false
   },
   "outputs": [
    {
     "name": "stdout",
     "output_type": "stream",
     "text": [
      "[1, 0, 1, 0, 1]\n",
      "<class 'collections.Counter'> Counter({1: 3, 0: 2})\n",
      "3\n",
      "Η λίστα των επικρατέστερων τιμών της μεταβλητής var2 είναι [1]\n"
     ]
    }
   ],
   "source": [
    "name = \"var2\"\n",
    "var2 = [random.choice(range(3)) for _ in range(5)]\n",
    "print var2\n",
    "counts = Counter(var2)\n",
    "print type(counts), counts\n",
    "max_count = max(counts.values())\n",
    "print max_count\n",
    "mode = [x_i for x_i, count in counts.iteritems() if count == max_count]\n",
    "print 'Η λίστα των επικρατέστερων τιμών της μεταβλητής', name, 'είναι', mode"
   ]
  },
  {
   "cell_type": "code",
   "execution_count": 54,
   "metadata": {
    "collapsed": true
   },
   "outputs": [],
   "source": [
    "def mode(x):\n",
    "    counts = Counter(x)\n",
    "    max_count = max(counts.values())\n",
    "    return [x_i for x_i, count in counts.iteritems() if count == max_count]"
   ]
  },
  {
   "cell_type": "code",
   "execution_count": 55,
   "metadata": {
    "collapsed": false
   },
   "outputs": [
    {
     "name": "stdout",
     "output_type": "stream",
     "text": [
      "[17.02, 18.9] [175, 180, 110]\n"
     ]
    }
   ],
   "source": [
    "print mode(qsec), mode(hp)"
   ]
  },
  {
   "cell_type": "markdown",
   "metadata": {},
   "source": [
    "## First (Simple) Statistcs and Histograms of Data Counts"
   ]
  },
  {
   "cell_type": "markdown",
   "metadata": {},
   "source": [
    "### Histograms"
   ]
  },
  {
   "cell_type": "code",
   "execution_count": 59,
   "metadata": {
    "collapsed": false
   },
   "outputs": [
    {
     "name": "stdout",
     "output_type": "stream",
     "text": [
      "Counter({57: 13, 69: 12, 60: 11, 288: 11, 9: 10, 48: 10, 123: 10, 192: 10, 294: 10, 0: 9, 45: 9, 162: 9, 180: 9, 252: 9, 6: 8, 42: 8, 87: 8, 114: 8, 129: 8, 153: 8, 198: 8, 204: 8, 246: 8, 264: 8, 30: 7, 36: 7, 39: 7, 54: 7, 150: 7, 156: 7, 174: 7, 177: 7, 183: 7, 186: 7, 189: 7, 213: 7, 216: 7, 249: 7, 273: 7, 279: 7, 291: 7, 15: 6, 18: 6, 21: 6, 78: 6, 84: 6, 93: 6, 165: 6, 222: 6, 231: 6, 240: 6, 267: 6, 3: 5, 27: 5, 33: 5, 72: 5, 99: 5, 105: 5, 108: 5, 117: 5, 126: 5, 132: 5, 147: 5, 159: 5, 168: 5, 207: 5, 219: 5, 228: 5, 243: 5, 270: 5, 282: 5, 24: 4, 51: 4, 63: 4, 96: 4, 102: 4, 111: 4, 138: 4, 141: 4, 195: 4, 201: 4, 210: 4, 225: 4, 234: 4, 237: 4, 258: 4, 12: 3, 66: 3, 75: 3, 90: 3, 120: 3, 135: 3, 144: 3, 255: 3, 276: 3, 285: 3, 297: 3, 81: 2, 171: 2, 261: 1})\n"
     ]
    }
   ],
   "source": [
    "num_friends =[random.choice(range(0,300,3)) for _ in range (600)]\n",
    "\n",
    "\n",
    "\n",
    "friend_counts = Counter(num_friends)   # A dictionary with number of friends as keys \n",
    "                                       # and number of people as values\n",
    "print friend_counts\n",
    "# print max(friend_counts.keys())\n",
    "# print max(friend_counts.values())"
   ]
  },
  {
   "cell_type": "code",
   "execution_count": 60,
   "metadata": {
    "collapsed": true
   },
   "outputs": [],
   "source": [
    "def make_data_counts_histogram(data,xname,yname):   # n, ,plt\n",
    "    data_counts = Counter(data)\n",
    "    n = max(data_counts.keys()) + 2\n",
    "    ymax=max(data_counts.values()) + 2\n",
    "    xs = range(n)\n",
    "    ys = [data_counts[x] for x in xs]\n",
    "    plt.bar(xs, ys)\n",
    "    plt.axis([0,n,0,ymax])\n",
    "    stitl=\"Histogram of %s Counts\" %xname\n",
    "    plt.title(stitl)\n",
    "    xtitl=\"# of %s\" %xname\n",
    "    ytitl=\"# of %s\" %yname\n",
    "    plt.xlabel(xtitl)\n",
    "    plt.ylabel(ytitl)\n",
    "    plt.show()"
   ]
  },
  {
   "cell_type": "code",
   "execution_count": 61,
   "metadata": {
    "collapsed": false,
    "scrolled": false
   },
   "outputs": [
    {
     "data": {
      "image/png": "[encoded data removed]",
      "text/plain": [
       "<matplotlib.figure.Figure at 0x3aae710>"
      ]
     },
     "metadata": {},
     "output_type": "display_data"
    }
   ],
   "source": [
    "xname='Friends'\n",
    "yname='People'\n",
    "data = friend_counts\n",
    "\n",
    "plt.figure(figsize=(12,8))\n",
    "make_data_counts_histogram(data,xname,yname)   "
   ]
  },
  {
   "cell_type": "markdown",
   "metadata": {},
   "source": [
    "### First (Simplest) Statistics"
   ]
  },
  {
   "cell_type": "code",
   "execution_count": null,
   "metadata": {
    "collapsed": false
   },
   "outputs": [],
   "source": [
    "num_points = len(num_friends)               # 204\n",
    "print 'num_points =', num_points\n",
    "print \n",
    "\n",
    "largest_value = max(num_friends)            # 100\n",
    "print 'largest_value =', largest_value\n",
    "smallest_value = min(num_friends)           # 1\n",
    "print 'smallest_value =', smallest_value \n",
    "sorted_values = sorted(num_friends)\n",
    "# smallest_value = sorted_values[0]         # 1\n",
    "# print 'smallest_value =', smallest_value\n",
    "second_smallest_value = sorted_values[1]    # 1\n",
    "print 'second_smallest_value =', second_smallest_value\n",
    "second_largest_value = sorted_values[-2]    # 49\n",
    "print 'second_largest_value =', second_largest_value"
   ]
  },
  {
   "cell_type": "markdown",
   "metadata": {},
   "source": [
    "## Measures of Dispersion: Range, Variance, Standard Deviation and Interquantile Range"
   ]
  },
  {
   "cell_type": "markdown",
   "metadata": {},
   "source": [
    "### Range"
   ]
  },
  {
   "cell_type": "code",
   "execution_count": null,
   "metadata": {
    "collapsed": true
   },
   "outputs": [],
   "source": [
    "def data_range(x):\n",
    "    return max(x) - min(x)"
   ]
  },
  {
   "cell_type": "code",
   "execution_count": null,
   "metadata": {
    "collapsed": false
   },
   "outputs": [],
   "source": [
    "# The range is the difference between the largest and smallest elements.\n",
    "\n",
    "data_range(num_friends) # 99"
   ]
  },
  {
   "cell_type": "markdown",
   "metadata": {},
   "source": [
    "### Variance"
   ]
  },
  {
   "cell_type": "code",
   "execution_count": null,
   "metadata": {
    "collapsed": true
   },
   "outputs": [],
   "source": [
    "def dot(v, w):\n",
    "    \"\"\"v_1 * w_1 + ... + v_n * w_n\"\"\"\n",
    "    return sum(v_i * w_i for v_i, w_i in zip(v, w))\n",
    "\n",
    "def sum_of_squares(v):\n",
    "    \"\"\"v_1 * v_1 + ... + v_n * v_n\"\"\"\n",
    "    return dot(v, v)\n",
    "\n",
    "def de_mean(x):\n",
    "    \"\"\"translate x by subtracting its mean (so the result has mean 0)\"\"\"\n",
    "    x_bar = mean(x)\n",
    "    return [x_i - x_bar for x_i in x]\n",
    "\n",
    "def variance(x):\n",
    "    \"\"\"assumes x has at least two elements\"\"\"\n",
    "    n = len(x)\n",
    "    deviations = de_mean(x)\n",
    "    return sum_of_squares(deviations) / (n - 1)"
   ]
  },
  {
   "cell_type": "code",
   "execution_count": null,
   "metadata": {
    "collapsed": false
   },
   "outputs": [],
   "source": [
    "# The variance is the average squared deviation from the mean, \n",
    "# except that we’re dividing by n-1 instead of n.\n",
    "\n",
    "variance(num_friends)   # 81.54"
   ]
  },
  {
   "cell_type": "markdown",
   "metadata": {},
   "source": [
    "### Standard Deviation"
   ]
  },
  {
   "cell_type": "code",
   "execution_count": null,
   "metadata": {
    "collapsed": true
   },
   "outputs": [],
   "source": [
    "def standard_deviation(x):\n",
    "    return math.sqrt(variance(x))"
   ]
  },
  {
   "cell_type": "code",
   "execution_count": null,
   "metadata": {
    "collapsed": false
   },
   "outputs": [],
   "source": [
    "# The standard deviation is the square root of the variance.\n",
    "\n",
    "standard_deviation(num_friends) # 9.03"
   ]
  },
  {
   "cell_type": "markdown",
   "metadata": {},
   "source": [
    "### Interquantile Range"
   ]
  },
  {
   "cell_type": "code",
   "execution_count": null,
   "metadata": {
    "collapsed": true
   },
   "outputs": [],
   "source": [
    "def interquartile_range(x):\n",
    "    return quantile(x, 0.75) - quantile(x, 0.25)"
   ]
  },
  {
   "cell_type": "code",
   "execution_count": null,
   "metadata": {
    "collapsed": false
   },
   "outputs": [],
   "source": [
    "# The interquantile range computes the difference between the 75th percentile value \n",
    "# and the 25th percentile value.\n",
    "\n",
    "interquartile_range(num_friends)   # 6"
   ]
  },
  {
   "cell_type": "markdown",
   "metadata": {},
   "source": [
    "### A Second Set of Data"
   ]
  },
  {
   "cell_type": "code",
   "execution_count": null,
   "metadata": {
    "collapsed": false
   },
   "outputs": [],
   "source": [
    "daily_minutes = [1,68.77,51.25,52.08,38.36,44.54,57.13,51.4,41.42,31.22,34.76,54.01,38.79,\\\n",
    "                 47.59,49.1,27.66,41.03,36.73,48.65,28.12,46.62,35.57,32.98,35,26.07,23.77,\n",
    "                 39.73,40.57,31.65,31.21,36.32,20.45,21.93,26.02,27.34,23.49,46.94,30.5,33.8,\n",
    "                 24.23,21.4,27.94,32.24,40.57,25.07,19.42,22.39,18.42,46.96,23.72,26.41,26.97,\n",
    "                 36.76,40.32,35.02,29.47,30.2,31,38.11,38.18,36.31,21.03,30.86,36.07,28.66,\n",
    "                 29.08,37.28,15.28,24.17,22.31,30.17,25.53,19.85,35.37,44.6,17.23,13.47,26.33,\n",
    "                 35.02,32.09,24.81,19.33,28.77,24.26,31.98,25.73,24.86,16.28,34.51,15.23,39.72,\n",
    "                 40.8,26.06,35.76,34.76,16.13,44.04,18.03,19.65,32.62,35.59,39.43,14.18,35.24,\n",
    "                 40.13,41.82,35.45,36.07,43.67,24.61,20.9,21.9,18.79,27.61,27.21,26.61,29.77,\n",
    "                 20.59,27.53,13.82,33.2,25,33.1,36.65,18.63,14.87,22.2,36.81,25.53,24.62,26.25,\n",
    "                 18.21,28.08,19.42,29.79,32.8,35.99,28.32,27.79,35.88,29.06,36.28,14.1,36.63,\n",
    "                 37.49,26.9,18.58,38.48,24.48,18.95,33.55,14.24,29.04,32.51,25.63,22.22,19,\n",
    "                 32.73,15.16,13.9,27.2,32.01,29.27,33,13.74,20.42,27.32,18.23,35.35,28.48,9.08,\n",
    "                 24.62,20.12,35.26,19.92,31.02,16.49,12.16,30.7,31.22,34.65,13.13,27.51,33.2,\n",
    "                 31.57,14.1,33.42,17.44,10.12,24.42,9.82,23.39,30.93,15.03,21.67,31.09,33.29,\n",
    "                 22.61,26.89,23.48,8.38,27.81,32.35,23.84]\n",
    "print len(daily_minutes)  # 204\n",
    "daily_minutes_counts = Counter(daily_minutes)  \n",
    "# print daily_minutes_counts\n",
    "# print max(daily_minutes_counts.keys())\n",
    "# print max(daily_minutes_counts.values())"
   ]
  },
  {
   "cell_type": "code",
   "execution_count": null,
   "metadata": {
    "collapsed": true
   },
   "outputs": [],
   "source": [
    "def scatter_plot(data1,data2,name1,name2):\n",
    "    data1_counts = Counter(data1)\n",
    "    data2_counts = Counter(data2)\n",
    " #    n = max(data1_counts.keys()) + 2\n",
    "    xmax=max(data1_counts.keys()) + 2\n",
    "    ymax=max(data2_counts.keys()) + 2\n",
    " #    xs = range(n)\n",
    " #    ys = [data_counts[x] for x in xs]\n",
    "    plt.scatter(data1, data2)\n",
    "    plt.axis([0,xmax,0,ymax])\n",
    "    stitl=\"Scatterplot of Counts of %s and %s\" %(name1, name2)\n",
    "    plt.title(stitl)\n",
    "    xtitl=\"# of %s\" %name1\n",
    "    ytitl=\"# of %s\" %name2\n",
    "    plt.xlabel(xtitl)\n",
    "    plt.ylabel(ytitl)\n",
    "    plt.show()"
   ]
  },
  {
   "cell_type": "code",
   "execution_count": null,
   "metadata": {
    "collapsed": false
   },
   "outputs": [],
   "source": [
    "data1 = num_friends\n",
    "data2 = daily_minutes\n",
    "name1 = 'Friends'\n",
    "name2 = 'Daily Minutes'\n",
    "\n",
    "plt.figure(figsize=(12,8))\n",
    "scatter_plot(data1,data2,name1,name2)"
   ]
  },
  {
   "cell_type": "markdown",
   "metadata": {},
   "source": [
    "## Covariance and Correlation"
   ]
  },
  {
   "cell_type": "markdown",
   "metadata": {},
   "source": [
    "### Covariance"
   ]
  },
  {
   "cell_type": "code",
   "execution_count": null,
   "metadata": {
    "collapsed": true
   },
   "outputs": [],
   "source": [
    "def covariance(x, y):\n",
    "    n = len(x)\n",
    "    return dot(de_mean(x), de_mean(y)) / (n - 1)"
   ]
  },
  {
   "cell_type": "code",
   "execution_count": null,
   "metadata": {
    "collapsed": false
   },
   "outputs": [],
   "source": [
    "# The covariance of two variables measures how two variables vary in tandem from their means.\n",
    "\n",
    "covariance(num_friends, daily_minutes)   # 22.43"
   ]
  },
  {
   "cell_type": "markdown",
   "metadata": {},
   "source": [
    "### Correlation"
   ]
  },
  {
   "cell_type": "code",
   "execution_count": null,
   "metadata": {
    "collapsed": true
   },
   "outputs": [],
   "source": [
    "def correlation(x, y):\n",
    "    stdev_x = standard_deviation(x)\n",
    "    stdev_y = standard_deviation(y)\n",
    "    if stdev_x > 0 and stdev_y > 0:\n",
    "        return covariance(x, y) / stdev_x / stdev_y\n",
    "    else:\n",
    "        return 0 # if no variation, correlation is zero"
   ]
  },
  {
   "cell_type": "code",
   "execution_count": null,
   "metadata": {
    "collapsed": false
   },
   "outputs": [],
   "source": [
    "# The correlation is the covariance of two variables \n",
    "# divided by the product of their standard deviations.\n",
    "\n",
    "correlation(num_friends, daily_minutes)   # 0.25"
   ]
  },
  {
   "cell_type": "markdown",
   "metadata": {},
   "source": [
    "### Removing Outliers"
   ]
  },
  {
   "cell_type": "code",
   "execution_count": null,
   "metadata": {
    "collapsed": false
   },
   "outputs": [],
   "source": [
    "outlier = num_friends.index(100) # index of outlier\n",
    "num_friends_good = [x\n",
    "                    for i, x in enumerate(num_friends)\n",
    "                    if i != outlier]\n",
    "daily_minutes_good = [x\n",
    "                      for i, x in enumerate(daily_minutes)\n",
    "                      if i != outlier] \n",
    "\n",
    "correlation(num_friends_good, daily_minutes_good)   # 0.57"
   ]
  },
  {
   "cell_type": "code",
   "execution_count": null,
   "metadata": {
    "collapsed": false
   },
   "outputs": [],
   "source": [
    "data1 = num_friends_good\n",
    "data2 = daily_minutes_good\n",
    "name1 = 'Friends without Outliers'\n",
    "name2 = 'Daily Minutes without Outliers'\n",
    "\n",
    "plt.figure(figsize=(12,8))\n",
    "scatter_plot(data1,data2,name1,name2)"
   ]
  },
  {
   "cell_type": "markdown",
   "metadata": {
    "collapsed": true
   },
   "source": [
    "## Distributions"
   ]
  },
  {
   "cell_type": "code",
   "execution_count": null,
   "metadata": {
    "collapsed": false
   },
   "outputs": [],
   "source": [
    "from probability_functions import *"
   ]
  },
  {
   "cell_type": "code",
   "execution_count": null,
   "metadata": {
    "collapsed": true
   },
   "outputs": [],
   "source": [
    "from IPython.display import display, Math, Latex"
   ]
  },
  {
   "cell_type": "markdown",
   "metadata": {},
   "source": [
    "### The Uniform Distribution"
   ]
  },
  {
   "cell_type": "markdown",
   "metadata": {},
   "source": [
    "The uniform probability density function (pdf) in $[0, 1]$: "
   ]
  },
  {
   "cell_type": "code",
   "execution_count": null,
   "metadata": {
    "collapsed": false
   },
   "outputs": [],
   "source": [
    "%%latex \n",
    "\\[ f(x) = \\left\\{ \\begin{array}{ll}\n",
    "1, & \\mbox{for $0 \\leq x < 1$,} \\\\\n",
    "0, & \\mbox{otherwise.}\n",
    "\\end{array}\n",
    "\\right.\n",
    "\\]"
   ]
  },
  {
   "cell_type": "code",
   "execution_count": null,
   "metadata": {
    "collapsed": false
   },
   "outputs": [],
   "source": [
    "plt.figure(figsize=(12,8))\n",
    "uniform_pdf_plot()"
   ]
  },
  {
   "cell_type": "markdown",
   "metadata": {},
   "source": [
    "The uniform cumulative distribution function (cdf) in $[0, 1]$:"
   ]
  },
  {
   "cell_type": "code",
   "execution_count": null,
   "metadata": {
    "collapsed": false
   },
   "outputs": [],
   "source": [
    "%%latex \n",
    "\\[ F(x) = \\left\\{ \\begin{array}{ll}\n",
    "0, & \\mbox{for $x < 0$,} \\\\\n",
    "x, & \\mbox{for $0 \\leq x < 1$,} \\\\                 \n",
    "1, & \\mbox{for $x \\geq 1$.}\n",
    "\\end{array}\n",
    "\\right.\n",
    "\\]"
   ]
  },
  {
   "cell_type": "code",
   "execution_count": null,
   "metadata": {
    "collapsed": false
   },
   "outputs": [],
   "source": [
    "plt.figure(figsize=(12,8))\n",
    "uniform_cdf_plot()"
   ]
  },
  {
   "cell_type": "markdown",
   "metadata": {},
   "source": [
    "### The Normal Distribution"
   ]
  },
  {
   "cell_type": "markdown",
   "metadata": {},
   "source": [
    "The normal pdf with mean $\\mu$ and standard deviation $\\sigma$:"
   ]
  },
  {
   "cell_type": "code",
   "execution_count": null,
   "metadata": {
    "collapsed": false
   },
   "outputs": [],
   "source": [
    "%%latex \n",
    "\\[ \n",
    "f(x \\,|\\, \\mu, \\sigma) = \\frac{1}{\\sqrt{2 \\pi} \\sigma} \\exp \\Big( - \\frac{(x - \\mu)^2}{2 \\sigma^2} \\Big)\n",
    "\\]"
   ]
  },
  {
   "cell_type": "code",
   "execution_count": null,
   "metadata": {
    "collapsed": false
   },
   "outputs": [],
   "source": [
    "plt.figure(figsize=(12,8))\n",
    "plot_normal_pdfs()"
   ]
  },
  {
   "cell_type": "markdown",
   "metadata": {},
   "source": [
    "The normal cdf with mean $\\mu$ and standard deviation $\\sigma$:"
   ]
  },
  {
   "cell_type": "code",
   "execution_count": null,
   "metadata": {
    "collapsed": false
   },
   "outputs": [],
   "source": [
    "%%latex\n",
    "\\[\n",
    "\\Phi(x) = \\frac{1}{\\sqrt{2 \\pi}} \\int_{-\\infty}^{x} e^{-t^2} dt\n",
    "\\]"
   ]
  },
  {
   "cell_type": "code",
   "execution_count": null,
   "metadata": {
    "collapsed": false
   },
   "outputs": [],
   "source": [
    "plt.figure(figsize=(12,8))\n",
    "plot_normal_cdfs()"
   ]
  },
  {
   "cell_type": "code",
   "execution_count": null,
   "metadata": {
    "collapsed": true
   },
   "outputs": [],
   "source": []
  },
  {
   "cell_type": "code",
   "execution_count": null,
   "metadata": {
    "collapsed": true
   },
   "outputs": [],
   "source": []
  },
  {
   "cell_type": "code",
   "execution_count": null,
   "metadata": {
    "collapsed": true
   },
   "outputs": [],
   "source": []
  },
  {
   "cell_type": "code",
   "execution_count": null,
   "metadata": {
    "collapsed": true
   },
   "outputs": [],
   "source": []
  },
  {
   "cell_type": "code",
   "execution_count": null,
   "metadata": {
    "collapsed": true
   },
   "outputs": [],
   "source": []
  }
 ],
 "metadata": {
  "kernelspec": {
   "display_name": "Python 2",
   "language": "python",
   "name": "python2"
  },
  "language_info": {
   "codemirror_mode": {
    "name": "ipython",
    "version": 2
   },
   "file_extension": ".py",
   "mimetype": "text/x-python",
   "name": "python",
   "nbconvert_exporter": "python",
   "pygments_lexer": "ipython2",
   "version": "2.7.11"
  }
 },
 "nbformat": 4,
 "nbformat_minor": 0
}
